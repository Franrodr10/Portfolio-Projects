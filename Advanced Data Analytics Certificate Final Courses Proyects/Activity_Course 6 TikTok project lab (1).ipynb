{
 "cells": [
  {
   "cell_type": "markdown",
   "metadata": {
    "id": "DtNBZFHO3M7n"
   },
   "source": [
    "# **TikTok Project**\n",
    "**Course 6 - The Nuts and bolts of machine learning**"
   ]
  },
  {
   "cell_type": "markdown",
   "metadata": {
    "id": "9ttxbfHXzB4e"
   },
   "source": [
    "Recall that you are a data professional at TikTok. Your supervisor was impressed with the work you have done and has requested that you build a machine learning model that can be used to determine whether a video contains a claim or whether it offers an opinion. With a successful prediction model, TikTok can reduce the backlog of user reports and prioritize them more efficiently.\n",
    "\n",
    "A notebook was structured and prepared to help you in this project. A notebook was structured and prepared to help you in this project. Please complete the following questions."
   ]
  },
  {
   "cell_type": "markdown",
   "metadata": {
    "id": "e8Vm3QEfGELS"
   },
   "source": [
    "### **Task 1. Imports and data loading**\n",
    "\n",
    "Start by importing packages needed to build machine learning models to achieve the goal of this project."
   ]
  },
  {
   "cell_type": "code",
   "execution_count": 72,
   "metadata": {
    "id": "tCni9wAGphb0"
   },
   "outputs": [],
   "source": [
    "# Import packages for data manipulation\n",
    "import pandas as pd\n",
    "import numpy as np\n",
    "\n",
    "# Import packages for data visualization\n",
    "import matplotlib.pyplot as plt\n",
    "import seaborn as sns\n",
    "\n",
    "# Import packages for data preprocessing\n",
    "from sklearn.model_selection import train_test_split\n",
    "from sklearn.model_selection import GridSearchCV\n",
    "\n",
    "# Import packages for data modeling\n",
    "\n",
    "from sklearn.metrics import classification_report\n",
    "from sklearn.metrics import accuracy_score\n",
    "from sklearn.metrics import precision_score\n",
    "from sklearn.metrics import recall_score\n",
    "from sklearn.metrics import f1_score\n",
    "from sklearn.metrics import confusion_matrix\n",
    "from sklearn.metrics import ConfusionMatrixDisplay\n",
    "\n",
    "from sklearn.ensemble import RandomForestClassifier\n",
    "from xgboost import XGBClassifier\n",
    "from xgboost import plot_importance\n"
   ]
  },
  {
   "cell_type": "markdown",
   "metadata": {
    "id": "IeXTZ2tdbALL"
   },
   "source": [
    "Now load the data from the provided csv file into a dataframe.\n",
    "\n",
    "**Note:** As shown in this cell, the dataset has been automatically loaded in for you. You do not need to download the .csv file, or provide more code, in order to access the dataset and proceed with this lab. Please continue with this activity by completing the following instructions."
   ]
  },
  {
   "cell_type": "code",
   "execution_count": 73,
   "metadata": {
    "id": "C9ODhaOppqlw"
   },
   "outputs": [],
   "source": [
    "# Load dataset into dataframe\n",
    "data = pd.read_csv(\"tiktok_dataset.csv\")"
   ]
  },
  {
   "cell_type": "markdown",
   "metadata": {
    "id": "EgPRBjizg1oo"
   },
   "source": [
    "<img src=\"images/Analyze.png\" width=\"100\" height=\"100\" align=left>\n",
    "\n",
    "## **PACE: Analyze**\n",
    "\n",
    "Consider the questions in your PACE Strategy Document to reflect on the Analyze stage."
   ]
  },
  {
   "cell_type": "markdown",
   "metadata": {
    "id": "TYtBhb2zR54G"
   },
   "source": [
    "### **Task 2: Examine data, summary info, and descriptive stats**"
   ]
  },
  {
   "cell_type": "markdown",
   "metadata": {
    "id": "JBHl90JIRuXk"
   },
   "source": [
    "Inspect the first five rows of the dataframe."
   ]
  },
  {
   "cell_type": "code",
   "execution_count": 74,
   "metadata": {
    "id": "2rfk95MLp4a_"
   },
   "outputs": [
    {
     "data": {
      "text/html": [
       "<div>\n",
       "<style scoped>\n",
       "    .dataframe tbody tr th:only-of-type {\n",
       "        vertical-align: middle;\n",
       "    }\n",
       "\n",
       "    .dataframe tbody tr th {\n",
       "        vertical-align: top;\n",
       "    }\n",
       "\n",
       "    .dataframe thead th {\n",
       "        text-align: right;\n",
       "    }\n",
       "</style>\n",
       "<table border=\"1\" class=\"dataframe\">\n",
       "  <thead>\n",
       "    <tr style=\"text-align: right;\">\n",
       "      <th></th>\n",
       "      <th>#</th>\n",
       "      <th>claim_status</th>\n",
       "      <th>video_id</th>\n",
       "      <th>video_duration_sec</th>\n",
       "      <th>video_transcription_text</th>\n",
       "      <th>verified_status</th>\n",
       "      <th>author_ban_status</th>\n",
       "      <th>video_view_count</th>\n",
       "      <th>video_like_count</th>\n",
       "      <th>video_share_count</th>\n",
       "      <th>video_download_count</th>\n",
       "      <th>video_comment_count</th>\n",
       "    </tr>\n",
       "  </thead>\n",
       "  <tbody>\n",
       "    <tr>\n",
       "      <th>0</th>\n",
       "      <td>1</td>\n",
       "      <td>claim</td>\n",
       "      <td>7017666017</td>\n",
       "      <td>59</td>\n",
       "      <td>someone shared with me that drone deliveries a...</td>\n",
       "      <td>not verified</td>\n",
       "      <td>under review</td>\n",
       "      <td>343296.0</td>\n",
       "      <td>19425.0</td>\n",
       "      <td>241.0</td>\n",
       "      <td>1.0</td>\n",
       "      <td>0.0</td>\n",
       "    </tr>\n",
       "    <tr>\n",
       "      <th>1</th>\n",
       "      <td>2</td>\n",
       "      <td>claim</td>\n",
       "      <td>4014381136</td>\n",
       "      <td>32</td>\n",
       "      <td>someone shared with me that there are more mic...</td>\n",
       "      <td>not verified</td>\n",
       "      <td>active</td>\n",
       "      <td>140877.0</td>\n",
       "      <td>77355.0</td>\n",
       "      <td>19034.0</td>\n",
       "      <td>1161.0</td>\n",
       "      <td>684.0</td>\n",
       "    </tr>\n",
       "    <tr>\n",
       "      <th>2</th>\n",
       "      <td>3</td>\n",
       "      <td>claim</td>\n",
       "      <td>9859838091</td>\n",
       "      <td>31</td>\n",
       "      <td>someone shared with me that american industria...</td>\n",
       "      <td>not verified</td>\n",
       "      <td>active</td>\n",
       "      <td>902185.0</td>\n",
       "      <td>97690.0</td>\n",
       "      <td>2858.0</td>\n",
       "      <td>833.0</td>\n",
       "      <td>329.0</td>\n",
       "    </tr>\n",
       "    <tr>\n",
       "      <th>3</th>\n",
       "      <td>4</td>\n",
       "      <td>claim</td>\n",
       "      <td>1866847991</td>\n",
       "      <td>25</td>\n",
       "      <td>someone shared with me that the metro of st. p...</td>\n",
       "      <td>not verified</td>\n",
       "      <td>active</td>\n",
       "      <td>437506.0</td>\n",
       "      <td>239954.0</td>\n",
       "      <td>34812.0</td>\n",
       "      <td>1234.0</td>\n",
       "      <td>584.0</td>\n",
       "    </tr>\n",
       "    <tr>\n",
       "      <th>4</th>\n",
       "      <td>5</td>\n",
       "      <td>claim</td>\n",
       "      <td>7105231098</td>\n",
       "      <td>19</td>\n",
       "      <td>someone shared with me that the number of busi...</td>\n",
       "      <td>not verified</td>\n",
       "      <td>active</td>\n",
       "      <td>56167.0</td>\n",
       "      <td>34987.0</td>\n",
       "      <td>4110.0</td>\n",
       "      <td>547.0</td>\n",
       "      <td>152.0</td>\n",
       "    </tr>\n",
       "    <tr>\n",
       "      <th>5</th>\n",
       "      <td>6</td>\n",
       "      <td>claim</td>\n",
       "      <td>8972200955</td>\n",
       "      <td>35</td>\n",
       "      <td>someone shared with me that gross domestic pro...</td>\n",
       "      <td>not verified</td>\n",
       "      <td>under review</td>\n",
       "      <td>336647.0</td>\n",
       "      <td>175546.0</td>\n",
       "      <td>62303.0</td>\n",
       "      <td>4293.0</td>\n",
       "      <td>1857.0</td>\n",
       "    </tr>\n",
       "    <tr>\n",
       "      <th>6</th>\n",
       "      <td>7</td>\n",
       "      <td>claim</td>\n",
       "      <td>4958886992</td>\n",
       "      <td>16</td>\n",
       "      <td>someone shared with me that elvis presley has ...</td>\n",
       "      <td>not verified</td>\n",
       "      <td>active</td>\n",
       "      <td>750345.0</td>\n",
       "      <td>486192.0</td>\n",
       "      <td>193911.0</td>\n",
       "      <td>8616.0</td>\n",
       "      <td>5446.0</td>\n",
       "    </tr>\n",
       "    <tr>\n",
       "      <th>7</th>\n",
       "      <td>8</td>\n",
       "      <td>claim</td>\n",
       "      <td>2270982263</td>\n",
       "      <td>41</td>\n",
       "      <td>someone shared with me that the best selling s...</td>\n",
       "      <td>not verified</td>\n",
       "      <td>active</td>\n",
       "      <td>547532.0</td>\n",
       "      <td>1072.0</td>\n",
       "      <td>50.0</td>\n",
       "      <td>22.0</td>\n",
       "      <td>11.0</td>\n",
       "    </tr>\n",
       "    <tr>\n",
       "      <th>8</th>\n",
       "      <td>9</td>\n",
       "      <td>claim</td>\n",
       "      <td>5235769692</td>\n",
       "      <td>50</td>\n",
       "      <td>someone shared with me that about half of the ...</td>\n",
       "      <td>not verified</td>\n",
       "      <td>active</td>\n",
       "      <td>24819.0</td>\n",
       "      <td>10160.0</td>\n",
       "      <td>1050.0</td>\n",
       "      <td>53.0</td>\n",
       "      <td>27.0</td>\n",
       "    </tr>\n",
       "    <tr>\n",
       "      <th>9</th>\n",
       "      <td>10</td>\n",
       "      <td>claim</td>\n",
       "      <td>4660861094</td>\n",
       "      <td>45</td>\n",
       "      <td>someone shared with me that it would take a 50...</td>\n",
       "      <td>verified</td>\n",
       "      <td>active</td>\n",
       "      <td>931587.0</td>\n",
       "      <td>171051.0</td>\n",
       "      <td>67739.0</td>\n",
       "      <td>4104.0</td>\n",
       "      <td>2540.0</td>\n",
       "    </tr>\n",
       "  </tbody>\n",
       "</table>\n",
       "</div>"
      ],
      "text/plain": [
       "    # claim_status    video_id  video_duration_sec  \\\n",
       "0   1        claim  7017666017                  59   \n",
       "1   2        claim  4014381136                  32   \n",
       "2   3        claim  9859838091                  31   \n",
       "3   4        claim  1866847991                  25   \n",
       "4   5        claim  7105231098                  19   \n",
       "5   6        claim  8972200955                  35   \n",
       "6   7        claim  4958886992                  16   \n",
       "7   8        claim  2270982263                  41   \n",
       "8   9        claim  5235769692                  50   \n",
       "9  10        claim  4660861094                  45   \n",
       "\n",
       "                            video_transcription_text verified_status  \\\n",
       "0  someone shared with me that drone deliveries a...    not verified   \n",
       "1  someone shared with me that there are more mic...    not verified   \n",
       "2  someone shared with me that american industria...    not verified   \n",
       "3  someone shared with me that the metro of st. p...    not verified   \n",
       "4  someone shared with me that the number of busi...    not verified   \n",
       "5  someone shared with me that gross domestic pro...    not verified   \n",
       "6  someone shared with me that elvis presley has ...    not verified   \n",
       "7  someone shared with me that the best selling s...    not verified   \n",
       "8  someone shared with me that about half of the ...    not verified   \n",
       "9  someone shared with me that it would take a 50...        verified   \n",
       "\n",
       "  author_ban_status  video_view_count  video_like_count  video_share_count  \\\n",
       "0      under review          343296.0           19425.0              241.0   \n",
       "1            active          140877.0           77355.0            19034.0   \n",
       "2            active          902185.0           97690.0             2858.0   \n",
       "3            active          437506.0          239954.0            34812.0   \n",
       "4            active           56167.0           34987.0             4110.0   \n",
       "5      under review          336647.0          175546.0            62303.0   \n",
       "6            active          750345.0          486192.0           193911.0   \n",
       "7            active          547532.0            1072.0               50.0   \n",
       "8            active           24819.0           10160.0             1050.0   \n",
       "9            active          931587.0          171051.0            67739.0   \n",
       "\n",
       "   video_download_count  video_comment_count  \n",
       "0                   1.0                  0.0  \n",
       "1                1161.0                684.0  \n",
       "2                 833.0                329.0  \n",
       "3                1234.0                584.0  \n",
       "4                 547.0                152.0  \n",
       "5                4293.0               1857.0  \n",
       "6                8616.0               5446.0  \n",
       "7                  22.0                 11.0  \n",
       "8                  53.0                 27.0  \n",
       "9                4104.0               2540.0  "
      ]
     },
     "execution_count": 74,
     "metadata": {},
     "output_type": "execute_result"
    }
   ],
   "source": [
    "# Display first few rows\n",
    "data.head(n=10)"
   ]
  },
  {
   "cell_type": "markdown",
   "metadata": {
    "id": "66KOxKCx977b"
   },
   "source": [
    "Get the number of rows and columns in the dataset."
   ]
  },
  {
   "cell_type": "code",
   "execution_count": 75,
   "metadata": {
    "id": "kYwW-G1WqX3R"
   },
   "outputs": [
    {
     "data": {
      "text/plain": [
       "(19382, 12)"
      ]
     },
     "execution_count": 75,
     "metadata": {},
     "output_type": "execute_result"
    }
   ],
   "source": [
    "# Get number of rows and columns\n",
    "data.shape"
   ]
  },
  {
   "cell_type": "markdown",
   "metadata": {
    "id": "aP-NbEGdEio8"
   },
   "source": [
    "Get the data types of the columns."
   ]
  },
  {
   "cell_type": "code",
   "execution_count": 76,
   "metadata": {
    "id": "rbpDgrXfEoVj"
   },
   "outputs": [
    {
     "data": {
      "text/plain": [
       "#                             int64\n",
       "claim_status                 object\n",
       "video_id                      int64\n",
       "video_duration_sec            int64\n",
       "video_transcription_text     object\n",
       "verified_status              object\n",
       "author_ban_status            object\n",
       "video_view_count            float64\n",
       "video_like_count            float64\n",
       "video_share_count           float64\n",
       "video_download_count        float64\n",
       "video_comment_count         float64\n",
       "dtype: object"
      ]
     },
     "execution_count": 76,
     "metadata": {},
     "output_type": "execute_result"
    }
   ],
   "source": [
    "# Get data types of columns\n",
    "data.dtypes\n"
   ]
  },
  {
   "cell_type": "markdown",
   "metadata": {
    "id": "URuRVjUZ_Axg"
   },
   "source": [
    "Get basic information about the dataset."
   ]
  },
  {
   "cell_type": "code",
   "execution_count": 77,
   "metadata": {
    "id": "zyyKCGzCp7SS"
   },
   "outputs": [
    {
     "name": "stdout",
     "output_type": "stream",
     "text": [
      "<class 'pandas.core.frame.DataFrame'>\n",
      "RangeIndex: 19382 entries, 0 to 19381\n",
      "Data columns (total 12 columns):\n",
      " #   Column                    Non-Null Count  Dtype  \n",
      "---  ------                    --------------  -----  \n",
      " 0   #                         19382 non-null  int64  \n",
      " 1   claim_status              19084 non-null  object \n",
      " 2   video_id                  19382 non-null  int64  \n",
      " 3   video_duration_sec        19382 non-null  int64  \n",
      " 4   video_transcription_text  19084 non-null  object \n",
      " 5   verified_status           19382 non-null  object \n",
      " 6   author_ban_status         19382 non-null  object \n",
      " 7   video_view_count          19084 non-null  float64\n",
      " 8   video_like_count          19084 non-null  float64\n",
      " 9   video_share_count         19084 non-null  float64\n",
      " 10  video_download_count      19084 non-null  float64\n",
      " 11  video_comment_count       19084 non-null  float64\n",
      "dtypes: float64(5), int64(3), object(4)\n",
      "memory usage: 1.8+ MB\n"
     ]
    }
   ],
   "source": [
    "# Get basic information\n",
    "data.info()\n"
   ]
  },
  {
   "cell_type": "markdown",
   "metadata": {
    "id": "0T5Ieb6WB61Q"
   },
   "source": [
    "Generate basic descriptive statistics about the dataset."
   ]
  },
  {
   "cell_type": "code",
   "execution_count": 78,
   "metadata": {
    "id": "HbpuAS2UqY01"
   },
   "outputs": [
    {
     "data": {
      "text/html": [
       "<div>\n",
       "<style scoped>\n",
       "    .dataframe tbody tr th:only-of-type {\n",
       "        vertical-align: middle;\n",
       "    }\n",
       "\n",
       "    .dataframe tbody tr th {\n",
       "        vertical-align: top;\n",
       "    }\n",
       "\n",
       "    .dataframe thead th {\n",
       "        text-align: right;\n",
       "    }\n",
       "</style>\n",
       "<table border=\"1\" class=\"dataframe\">\n",
       "  <thead>\n",
       "    <tr style=\"text-align: right;\">\n",
       "      <th></th>\n",
       "      <th>#</th>\n",
       "      <th>video_id</th>\n",
       "      <th>video_duration_sec</th>\n",
       "      <th>video_view_count</th>\n",
       "      <th>video_like_count</th>\n",
       "      <th>video_share_count</th>\n",
       "      <th>video_download_count</th>\n",
       "      <th>video_comment_count</th>\n",
       "    </tr>\n",
       "  </thead>\n",
       "  <tbody>\n",
       "    <tr>\n",
       "      <th>count</th>\n",
       "      <td>19382.000000</td>\n",
       "      <td>1.938200e+04</td>\n",
       "      <td>19382.000000</td>\n",
       "      <td>19084.000000</td>\n",
       "      <td>19084.000000</td>\n",
       "      <td>19084.000000</td>\n",
       "      <td>19084.000000</td>\n",
       "      <td>19084.000000</td>\n",
       "    </tr>\n",
       "    <tr>\n",
       "      <th>mean</th>\n",
       "      <td>9691.500000</td>\n",
       "      <td>5.627454e+09</td>\n",
       "      <td>32.421732</td>\n",
       "      <td>254708.558688</td>\n",
       "      <td>84304.636030</td>\n",
       "      <td>16735.248323</td>\n",
       "      <td>1049.429627</td>\n",
       "      <td>349.312146</td>\n",
       "    </tr>\n",
       "    <tr>\n",
       "      <th>std</th>\n",
       "      <td>5595.245794</td>\n",
       "      <td>2.536440e+09</td>\n",
       "      <td>16.229967</td>\n",
       "      <td>322893.280814</td>\n",
       "      <td>133420.546814</td>\n",
       "      <td>32036.174350</td>\n",
       "      <td>2004.299894</td>\n",
       "      <td>799.638865</td>\n",
       "    </tr>\n",
       "    <tr>\n",
       "      <th>min</th>\n",
       "      <td>1.000000</td>\n",
       "      <td>1.234959e+09</td>\n",
       "      <td>5.000000</td>\n",
       "      <td>20.000000</td>\n",
       "      <td>0.000000</td>\n",
       "      <td>0.000000</td>\n",
       "      <td>0.000000</td>\n",
       "      <td>0.000000</td>\n",
       "    </tr>\n",
       "    <tr>\n",
       "      <th>25%</th>\n",
       "      <td>4846.250000</td>\n",
       "      <td>3.430417e+09</td>\n",
       "      <td>18.000000</td>\n",
       "      <td>4942.500000</td>\n",
       "      <td>810.750000</td>\n",
       "      <td>115.000000</td>\n",
       "      <td>7.000000</td>\n",
       "      <td>1.000000</td>\n",
       "    </tr>\n",
       "    <tr>\n",
       "      <th>50%</th>\n",
       "      <td>9691.500000</td>\n",
       "      <td>5.618664e+09</td>\n",
       "      <td>32.000000</td>\n",
       "      <td>9954.500000</td>\n",
       "      <td>3403.500000</td>\n",
       "      <td>717.000000</td>\n",
       "      <td>46.000000</td>\n",
       "      <td>9.000000</td>\n",
       "    </tr>\n",
       "    <tr>\n",
       "      <th>75%</th>\n",
       "      <td>14536.750000</td>\n",
       "      <td>7.843960e+09</td>\n",
       "      <td>47.000000</td>\n",
       "      <td>504327.000000</td>\n",
       "      <td>125020.000000</td>\n",
       "      <td>18222.000000</td>\n",
       "      <td>1156.250000</td>\n",
       "      <td>292.000000</td>\n",
       "    </tr>\n",
       "    <tr>\n",
       "      <th>max</th>\n",
       "      <td>19382.000000</td>\n",
       "      <td>9.999873e+09</td>\n",
       "      <td>60.000000</td>\n",
       "      <td>999817.000000</td>\n",
       "      <td>657830.000000</td>\n",
       "      <td>256130.000000</td>\n",
       "      <td>14994.000000</td>\n",
       "      <td>9599.000000</td>\n",
       "    </tr>\n",
       "  </tbody>\n",
       "</table>\n",
       "</div>"
      ],
      "text/plain": [
       "                  #      video_id  video_duration_sec  video_view_count  \\\n",
       "count  19382.000000  1.938200e+04        19382.000000      19084.000000   \n",
       "mean    9691.500000  5.627454e+09           32.421732     254708.558688   \n",
       "std     5595.245794  2.536440e+09           16.229967     322893.280814   \n",
       "min        1.000000  1.234959e+09            5.000000         20.000000   \n",
       "25%     4846.250000  3.430417e+09           18.000000       4942.500000   \n",
       "50%     9691.500000  5.618664e+09           32.000000       9954.500000   \n",
       "75%    14536.750000  7.843960e+09           47.000000     504327.000000   \n",
       "max    19382.000000  9.999873e+09           60.000000     999817.000000   \n",
       "\n",
       "       video_like_count  video_share_count  video_download_count  \\\n",
       "count      19084.000000       19084.000000          19084.000000   \n",
       "mean       84304.636030       16735.248323           1049.429627   \n",
       "std       133420.546814       32036.174350           2004.299894   \n",
       "min            0.000000           0.000000              0.000000   \n",
       "25%          810.750000         115.000000              7.000000   \n",
       "50%         3403.500000         717.000000             46.000000   \n",
       "75%       125020.000000       18222.000000           1156.250000   \n",
       "max       657830.000000      256130.000000          14994.000000   \n",
       "\n",
       "       video_comment_count  \n",
       "count         19084.000000  \n",
       "mean            349.312146  \n",
       "std             799.638865  \n",
       "min               0.000000  \n",
       "25%               1.000000  \n",
       "50%               9.000000  \n",
       "75%             292.000000  \n",
       "max            9599.000000  "
      ]
     },
     "execution_count": 78,
     "metadata": {},
     "output_type": "execute_result"
    }
   ],
   "source": [
    "# Generate basic descriptive stats\n",
    "data.describe()\n"
   ]
  },
  {
   "cell_type": "markdown",
   "metadata": {
    "id": "9OpeNQDdyIT6"
   },
   "source": [
    "Check for and handle missing values."
   ]
  },
  {
   "cell_type": "code",
   "execution_count": 79,
   "metadata": {
    "id": "BrunHcfa7xnT"
   },
   "outputs": [
    {
     "data": {
      "text/plain": [
       "#                             0\n",
       "claim_status                298\n",
       "video_id                      0\n",
       "video_duration_sec            0\n",
       "video_transcription_text    298\n",
       "verified_status               0\n",
       "author_ban_status             0\n",
       "video_view_count            298\n",
       "video_like_count            298\n",
       "video_share_count           298\n",
       "video_download_count        298\n",
       "video_comment_count         298\n",
       "dtype: int64"
      ]
     },
     "execution_count": 79,
     "metadata": {},
     "output_type": "execute_result"
    }
   ],
   "source": [
    "# Check for missing values\n",
    "data.isna().sum()\n"
   ]
  },
  {
   "cell_type": "code",
   "execution_count": 80,
   "metadata": {
    "id": "SHSj1Hma914I"
   },
   "outputs": [],
   "source": [
    "# Drop rows with missing values\n",
    "data = data.dropna(axis=0)\n"
   ]
  },
  {
   "cell_type": "code",
   "execution_count": 81,
   "metadata": {
    "id": "ZYUF3xap9_Fa"
   },
   "outputs": [
    {
     "data": {
      "text/html": [
       "<div>\n",
       "<style scoped>\n",
       "    .dataframe tbody tr th:only-of-type {\n",
       "        vertical-align: middle;\n",
       "    }\n",
       "\n",
       "    .dataframe tbody tr th {\n",
       "        vertical-align: top;\n",
       "    }\n",
       "\n",
       "    .dataframe thead th {\n",
       "        text-align: right;\n",
       "    }\n",
       "</style>\n",
       "<table border=\"1\" class=\"dataframe\">\n",
       "  <thead>\n",
       "    <tr style=\"text-align: right;\">\n",
       "      <th></th>\n",
       "      <th>#</th>\n",
       "      <th>claim_status</th>\n",
       "      <th>video_id</th>\n",
       "      <th>video_duration_sec</th>\n",
       "      <th>video_transcription_text</th>\n",
       "      <th>verified_status</th>\n",
       "      <th>author_ban_status</th>\n",
       "      <th>video_view_count</th>\n",
       "      <th>video_like_count</th>\n",
       "      <th>video_share_count</th>\n",
       "      <th>video_download_count</th>\n",
       "      <th>video_comment_count</th>\n",
       "    </tr>\n",
       "  </thead>\n",
       "  <tbody>\n",
       "    <tr>\n",
       "      <th>0</th>\n",
       "      <td>1</td>\n",
       "      <td>claim</td>\n",
       "      <td>7017666017</td>\n",
       "      <td>59</td>\n",
       "      <td>someone shared with me that drone deliveries a...</td>\n",
       "      <td>not verified</td>\n",
       "      <td>under review</td>\n",
       "      <td>343296.0</td>\n",
       "      <td>19425.0</td>\n",
       "      <td>241.0</td>\n",
       "      <td>1.0</td>\n",
       "      <td>0.0</td>\n",
       "    </tr>\n",
       "    <tr>\n",
       "      <th>1</th>\n",
       "      <td>2</td>\n",
       "      <td>claim</td>\n",
       "      <td>4014381136</td>\n",
       "      <td>32</td>\n",
       "      <td>someone shared with me that there are more mic...</td>\n",
       "      <td>not verified</td>\n",
       "      <td>active</td>\n",
       "      <td>140877.0</td>\n",
       "      <td>77355.0</td>\n",
       "      <td>19034.0</td>\n",
       "      <td>1161.0</td>\n",
       "      <td>684.0</td>\n",
       "    </tr>\n",
       "    <tr>\n",
       "      <th>2</th>\n",
       "      <td>3</td>\n",
       "      <td>claim</td>\n",
       "      <td>9859838091</td>\n",
       "      <td>31</td>\n",
       "      <td>someone shared with me that american industria...</td>\n",
       "      <td>not verified</td>\n",
       "      <td>active</td>\n",
       "      <td>902185.0</td>\n",
       "      <td>97690.0</td>\n",
       "      <td>2858.0</td>\n",
       "      <td>833.0</td>\n",
       "      <td>329.0</td>\n",
       "    </tr>\n",
       "    <tr>\n",
       "      <th>3</th>\n",
       "      <td>4</td>\n",
       "      <td>claim</td>\n",
       "      <td>1866847991</td>\n",
       "      <td>25</td>\n",
       "      <td>someone shared with me that the metro of st. p...</td>\n",
       "      <td>not verified</td>\n",
       "      <td>active</td>\n",
       "      <td>437506.0</td>\n",
       "      <td>239954.0</td>\n",
       "      <td>34812.0</td>\n",
       "      <td>1234.0</td>\n",
       "      <td>584.0</td>\n",
       "    </tr>\n",
       "    <tr>\n",
       "      <th>4</th>\n",
       "      <td>5</td>\n",
       "      <td>claim</td>\n",
       "      <td>7105231098</td>\n",
       "      <td>19</td>\n",
       "      <td>someone shared with me that the number of busi...</td>\n",
       "      <td>not verified</td>\n",
       "      <td>active</td>\n",
       "      <td>56167.0</td>\n",
       "      <td>34987.0</td>\n",
       "      <td>4110.0</td>\n",
       "      <td>547.0</td>\n",
       "      <td>152.0</td>\n",
       "    </tr>\n",
       "    <tr>\n",
       "      <th>5</th>\n",
       "      <td>6</td>\n",
       "      <td>claim</td>\n",
       "      <td>8972200955</td>\n",
       "      <td>35</td>\n",
       "      <td>someone shared with me that gross domestic pro...</td>\n",
       "      <td>not verified</td>\n",
       "      <td>under review</td>\n",
       "      <td>336647.0</td>\n",
       "      <td>175546.0</td>\n",
       "      <td>62303.0</td>\n",
       "      <td>4293.0</td>\n",
       "      <td>1857.0</td>\n",
       "    </tr>\n",
       "    <tr>\n",
       "      <th>6</th>\n",
       "      <td>7</td>\n",
       "      <td>claim</td>\n",
       "      <td>4958886992</td>\n",
       "      <td>16</td>\n",
       "      <td>someone shared with me that elvis presley has ...</td>\n",
       "      <td>not verified</td>\n",
       "      <td>active</td>\n",
       "      <td>750345.0</td>\n",
       "      <td>486192.0</td>\n",
       "      <td>193911.0</td>\n",
       "      <td>8616.0</td>\n",
       "      <td>5446.0</td>\n",
       "    </tr>\n",
       "    <tr>\n",
       "      <th>7</th>\n",
       "      <td>8</td>\n",
       "      <td>claim</td>\n",
       "      <td>2270982263</td>\n",
       "      <td>41</td>\n",
       "      <td>someone shared with me that the best selling s...</td>\n",
       "      <td>not verified</td>\n",
       "      <td>active</td>\n",
       "      <td>547532.0</td>\n",
       "      <td>1072.0</td>\n",
       "      <td>50.0</td>\n",
       "      <td>22.0</td>\n",
       "      <td>11.0</td>\n",
       "    </tr>\n",
       "    <tr>\n",
       "      <th>8</th>\n",
       "      <td>9</td>\n",
       "      <td>claim</td>\n",
       "      <td>5235769692</td>\n",
       "      <td>50</td>\n",
       "      <td>someone shared with me that about half of the ...</td>\n",
       "      <td>not verified</td>\n",
       "      <td>active</td>\n",
       "      <td>24819.0</td>\n",
       "      <td>10160.0</td>\n",
       "      <td>1050.0</td>\n",
       "      <td>53.0</td>\n",
       "      <td>27.0</td>\n",
       "    </tr>\n",
       "    <tr>\n",
       "      <th>9</th>\n",
       "      <td>10</td>\n",
       "      <td>claim</td>\n",
       "      <td>4660861094</td>\n",
       "      <td>45</td>\n",
       "      <td>someone shared with me that it would take a 50...</td>\n",
       "      <td>verified</td>\n",
       "      <td>active</td>\n",
       "      <td>931587.0</td>\n",
       "      <td>171051.0</td>\n",
       "      <td>67739.0</td>\n",
       "      <td>4104.0</td>\n",
       "      <td>2540.0</td>\n",
       "    </tr>\n",
       "  </tbody>\n",
       "</table>\n",
       "</div>"
      ],
      "text/plain": [
       "    # claim_status    video_id  video_duration_sec  \\\n",
       "0   1        claim  7017666017                  59   \n",
       "1   2        claim  4014381136                  32   \n",
       "2   3        claim  9859838091                  31   \n",
       "3   4        claim  1866847991                  25   \n",
       "4   5        claim  7105231098                  19   \n",
       "5   6        claim  8972200955                  35   \n",
       "6   7        claim  4958886992                  16   \n",
       "7   8        claim  2270982263                  41   \n",
       "8   9        claim  5235769692                  50   \n",
       "9  10        claim  4660861094                  45   \n",
       "\n",
       "                            video_transcription_text verified_status  \\\n",
       "0  someone shared with me that drone deliveries a...    not verified   \n",
       "1  someone shared with me that there are more mic...    not verified   \n",
       "2  someone shared with me that american industria...    not verified   \n",
       "3  someone shared with me that the metro of st. p...    not verified   \n",
       "4  someone shared with me that the number of busi...    not verified   \n",
       "5  someone shared with me that gross domestic pro...    not verified   \n",
       "6  someone shared with me that elvis presley has ...    not verified   \n",
       "7  someone shared with me that the best selling s...    not verified   \n",
       "8  someone shared with me that about half of the ...    not verified   \n",
       "9  someone shared with me that it would take a 50...        verified   \n",
       "\n",
       "  author_ban_status  video_view_count  video_like_count  video_share_count  \\\n",
       "0      under review          343296.0           19425.0              241.0   \n",
       "1            active          140877.0           77355.0            19034.0   \n",
       "2            active          902185.0           97690.0             2858.0   \n",
       "3            active          437506.0          239954.0            34812.0   \n",
       "4            active           56167.0           34987.0             4110.0   \n",
       "5      under review          336647.0          175546.0            62303.0   \n",
       "6            active          750345.0          486192.0           193911.0   \n",
       "7            active          547532.0            1072.0               50.0   \n",
       "8            active           24819.0           10160.0             1050.0   \n",
       "9            active          931587.0          171051.0            67739.0   \n",
       "\n",
       "   video_download_count  video_comment_count  \n",
       "0                   1.0                  0.0  \n",
       "1                1161.0                684.0  \n",
       "2                 833.0                329.0  \n",
       "3                1234.0                584.0  \n",
       "4                 547.0                152.0  \n",
       "5                4293.0               1857.0  \n",
       "6                8616.0               5446.0  \n",
       "7                  22.0                 11.0  \n",
       "8                  53.0                 27.0  \n",
       "9                4104.0               2540.0  "
      ]
     },
     "execution_count": 81,
     "metadata": {},
     "output_type": "execute_result"
    }
   ],
   "source": [
    "# Display first few rows after handling missing values\n",
    "data.head(n=10)\n"
   ]
  },
  {
   "cell_type": "markdown",
   "metadata": {
    "id": "XcfffpANyNiu"
   },
   "source": [
    "Check for and handle duplicates."
   ]
  },
  {
   "cell_type": "code",
   "execution_count": 82,
   "metadata": {
    "id": "IKaGnWIsiHpH"
   },
   "outputs": [
    {
     "data": {
      "text/plain": [
       "0"
      ]
     },
     "execution_count": 82,
     "metadata": {},
     "output_type": "execute_result"
    }
   ],
   "source": [
    "# Check for duplicates\n",
    "data.duplicated().sum()"
   ]
  },
  {
   "cell_type": "markdown",
   "metadata": {
    "id": "k-HcHpGc5Hn7"
   },
   "source": [
    "Check for and handle outliers."
   ]
  },
  {
   "cell_type": "code",
   "execution_count": 83,
   "metadata": {
    "id": "bZS2-0qEPbN6"
   },
   "outputs": [],
   "source": [
    "## There is no need of checking outliers because the models that we are going to use are robust to outliers\n"
   ]
  },
  {
   "cell_type": "markdown",
   "metadata": {
    "id": "Ecg5b3Jwfyxa"
   },
   "source": [
    "Check class balance."
   ]
  },
  {
   "cell_type": "code",
   "execution_count": 84,
   "metadata": {
    "id": "dQauKR11fyxb"
   },
   "outputs": [
    {
     "data": {
      "text/plain": [
       "claim_status\n",
       "claim      0.503458\n",
       "opinion    0.496542\n",
       "Name: proportion, dtype: float64"
      ]
     },
     "execution_count": 84,
     "metadata": {},
     "output_type": "execute_result"
    }
   ],
   "source": [
    "# Check class balance\n",
    "data['claim_status'].value_counts(normalize=True)\n"
   ]
  },
  {
   "cell_type": "markdown",
   "metadata": {
    "id": "kD8TsZ8jqri0"
   },
   "source": [
    "<img src=\"images/Construct.png\" width=\"100\" height=\"100\" align=left>\n",
    "\n",
    "## **PACE: Construct**\n",
    "Consider the questions in your PACE Strategy Document to reflect on the Construct stage."
   ]
  },
  {
   "cell_type": "markdown",
   "metadata": {
    "id": "8i0spBspquCr"
   },
   "source": [
    "### **Task 3: Feature engineering**"
   ]
  },
  {
   "cell_type": "markdown",
   "metadata": {
    "id": "hb_u1c6_T1i-"
   },
   "source": [
    "Extract the length of each `video_transcription_text` and add this as a column to the dataframe, so that it can be used as a potential feature in the model."
   ]
  },
  {
   "cell_type": "code",
   "execution_count": 85,
   "metadata": {
    "id": "8Yr9hhhVHeYY"
   },
   "outputs": [],
   "source": [
    "# Extract the length of each `video_transcription_text` and add this as a column to the dataframe\n",
    "data['video_transcription_text_len']= data['video_transcription_text'].str.len()"
   ]
  },
  {
   "cell_type": "markdown",
   "metadata": {
    "id": "puP-V85lq06h"
   },
   "source": [
    "Calculate the average text_length for claims and opinions."
   ]
  },
  {
   "cell_type": "code",
   "execution_count": 86,
   "metadata": {},
   "outputs": [
    {
     "data": {
      "text/html": [
       "<div>\n",
       "<style scoped>\n",
       "    .dataframe tbody tr th:only-of-type {\n",
       "        vertical-align: middle;\n",
       "    }\n",
       "\n",
       "    .dataframe tbody tr th {\n",
       "        vertical-align: top;\n",
       "    }\n",
       "\n",
       "    .dataframe thead th {\n",
       "        text-align: right;\n",
       "    }\n",
       "</style>\n",
       "<table border=\"1\" class=\"dataframe\">\n",
       "  <thead>\n",
       "    <tr style=\"text-align: right;\">\n",
       "      <th></th>\n",
       "      <th>claim_status</th>\n",
       "      <th>video_transcription_text_len</th>\n",
       "    </tr>\n",
       "  </thead>\n",
       "  <tbody>\n",
       "    <tr>\n",
       "      <th>0</th>\n",
       "      <td>claim</td>\n",
       "      <td>95.376978</td>\n",
       "    </tr>\n",
       "    <tr>\n",
       "      <th>1</th>\n",
       "      <td>opinion</td>\n",
       "      <td>82.722562</td>\n",
       "    </tr>\n",
       "  </tbody>\n",
       "</table>\n",
       "</div>"
      ],
      "text/plain": [
       "  claim_status  video_transcription_text_len\n",
       "0        claim                     95.376978\n",
       "1      opinion                     82.722562"
      ]
     },
     "execution_count": 86,
     "metadata": {},
     "output_type": "execute_result"
    }
   ],
   "source": [
    "claim_status_len = data[['claim_status','video_transcription_text_len']].groupby(by='claim_status').mean().reset_index()\n",
    "claim_status_len.head()"
   ]
  },
  {
   "cell_type": "code",
   "execution_count": 87,
   "metadata": {
    "id": "Vzg0J8UEJ1wx"
   },
   "outputs": [
    {
     "data": {
      "text/html": [
       "<div>\n",
       "<style scoped>\n",
       "    .dataframe tbody tr th:only-of-type {\n",
       "        vertical-align: middle;\n",
       "    }\n",
       "\n",
       "    .dataframe tbody tr th {\n",
       "        vertical-align: top;\n",
       "    }\n",
       "\n",
       "    .dataframe thead th {\n",
       "        text-align: right;\n",
       "    }\n",
       "</style>\n",
       "<table border=\"1\" class=\"dataframe\">\n",
       "  <thead>\n",
       "    <tr style=\"text-align: right;\">\n",
       "      <th></th>\n",
       "      <th>#</th>\n",
       "      <th>claim_status</th>\n",
       "      <th>video_id</th>\n",
       "      <th>video_duration_sec</th>\n",
       "      <th>video_transcription_text</th>\n",
       "      <th>verified_status</th>\n",
       "      <th>author_ban_status</th>\n",
       "      <th>video_view_count</th>\n",
       "      <th>video_like_count</th>\n",
       "      <th>video_share_count</th>\n",
       "      <th>video_download_count</th>\n",
       "      <th>video_comment_count</th>\n",
       "      <th>video_transcription_text_len</th>\n",
       "    </tr>\n",
       "  </thead>\n",
       "  <tbody>\n",
       "    <tr>\n",
       "      <th>0</th>\n",
       "      <td>1</td>\n",
       "      <td>claim</td>\n",
       "      <td>7017666017</td>\n",
       "      <td>59</td>\n",
       "      <td>someone shared with me that drone deliveries a...</td>\n",
       "      <td>not verified</td>\n",
       "      <td>under review</td>\n",
       "      <td>343296.0</td>\n",
       "      <td>19425.0</td>\n",
       "      <td>241.0</td>\n",
       "      <td>1.0</td>\n",
       "      <td>0.0</td>\n",
       "      <td>97</td>\n",
       "    </tr>\n",
       "    <tr>\n",
       "      <th>1</th>\n",
       "      <td>2</td>\n",
       "      <td>claim</td>\n",
       "      <td>4014381136</td>\n",
       "      <td>32</td>\n",
       "      <td>someone shared with me that there are more mic...</td>\n",
       "      <td>not verified</td>\n",
       "      <td>active</td>\n",
       "      <td>140877.0</td>\n",
       "      <td>77355.0</td>\n",
       "      <td>19034.0</td>\n",
       "      <td>1161.0</td>\n",
       "      <td>684.0</td>\n",
       "      <td>107</td>\n",
       "    </tr>\n",
       "    <tr>\n",
       "      <th>2</th>\n",
       "      <td>3</td>\n",
       "      <td>claim</td>\n",
       "      <td>9859838091</td>\n",
       "      <td>31</td>\n",
       "      <td>someone shared with me that american industria...</td>\n",
       "      <td>not verified</td>\n",
       "      <td>active</td>\n",
       "      <td>902185.0</td>\n",
       "      <td>97690.0</td>\n",
       "      <td>2858.0</td>\n",
       "      <td>833.0</td>\n",
       "      <td>329.0</td>\n",
       "      <td>137</td>\n",
       "    </tr>\n",
       "    <tr>\n",
       "      <th>3</th>\n",
       "      <td>4</td>\n",
       "      <td>claim</td>\n",
       "      <td>1866847991</td>\n",
       "      <td>25</td>\n",
       "      <td>someone shared with me that the metro of st. p...</td>\n",
       "      <td>not verified</td>\n",
       "      <td>active</td>\n",
       "      <td>437506.0</td>\n",
       "      <td>239954.0</td>\n",
       "      <td>34812.0</td>\n",
       "      <td>1234.0</td>\n",
       "      <td>584.0</td>\n",
       "      <td>131</td>\n",
       "    </tr>\n",
       "    <tr>\n",
       "      <th>4</th>\n",
       "      <td>5</td>\n",
       "      <td>claim</td>\n",
       "      <td>7105231098</td>\n",
       "      <td>19</td>\n",
       "      <td>someone shared with me that the number of busi...</td>\n",
       "      <td>not verified</td>\n",
       "      <td>active</td>\n",
       "      <td>56167.0</td>\n",
       "      <td>34987.0</td>\n",
       "      <td>4110.0</td>\n",
       "      <td>547.0</td>\n",
       "      <td>152.0</td>\n",
       "      <td>128</td>\n",
       "    </tr>\n",
       "  </tbody>\n",
       "</table>\n",
       "</div>"
      ],
      "text/plain": [
       "   # claim_status    video_id  video_duration_sec  \\\n",
       "0  1        claim  7017666017                  59   \n",
       "1  2        claim  4014381136                  32   \n",
       "2  3        claim  9859838091                  31   \n",
       "3  4        claim  1866847991                  25   \n",
       "4  5        claim  7105231098                  19   \n",
       "\n",
       "                            video_transcription_text verified_status  \\\n",
       "0  someone shared with me that drone deliveries a...    not verified   \n",
       "1  someone shared with me that there are more mic...    not verified   \n",
       "2  someone shared with me that american industria...    not verified   \n",
       "3  someone shared with me that the metro of st. p...    not verified   \n",
       "4  someone shared with me that the number of busi...    not verified   \n",
       "\n",
       "  author_ban_status  video_view_count  video_like_count  video_share_count  \\\n",
       "0      under review          343296.0           19425.0              241.0   \n",
       "1            active          140877.0           77355.0            19034.0   \n",
       "2            active          902185.0           97690.0             2858.0   \n",
       "3            active          437506.0          239954.0            34812.0   \n",
       "4            active           56167.0           34987.0             4110.0   \n",
       "\n",
       "   video_download_count  video_comment_count  video_transcription_text_len  \n",
       "0                   1.0                  0.0                            97  \n",
       "1                1161.0                684.0                           107  \n",
       "2                 833.0                329.0                           137  \n",
       "3                1234.0                584.0                           131  \n",
       "4                 547.0                152.0                           128  "
      ]
     },
     "execution_count": 87,
     "metadata": {},
     "output_type": "execute_result"
    }
   ],
   "source": [
    "# Display first few rows of dataframe after adding new column\n",
    "data.head()\n"
   ]
  },
  {
   "cell_type": "markdown",
   "metadata": {
    "id": "LGu7ipi4AJmP"
   },
   "source": [
    "Visualize the distribution of `text_length` for claims and opinions."
   ]
  },
  {
   "cell_type": "code",
   "execution_count": 88,
   "metadata": {
    "id": "MSq136S3TIYe"
   },
   "outputs": [
    {
     "data": {
      "image/png": "[encoded data removed]",
      "text/plain": [
       "<Figure size 640x480 with 1 Axes>"
      ]
     },
     "metadata": {},
     "output_type": "display_data"
    }
   ],
   "source": [
    "# Visualize the distribution of `text_length` for claims and opinions\n",
    "# Create two histograms in one plot\n",
    "\n",
    "sns.histplot(data=data, stat=\"count\", multiple=\"dodge\", x=\"video_transcription_text_len\",\n",
    "             kde=False, palette=\"inferno\", hue=\"claim_status\",legend=True)\n",
    "plt.xlabel(\"video_transcription_text_length\")\n",
    "plt.ylabel(\"Count\")\n",
    "plt.title(\"Distribution of video_transcription_text length for claims and opinions\")\n",
    "plt.show()"
   ]
  },
  {
   "cell_type": "markdown",
   "metadata": {
    "id": "giuSryvUsk2J"
   },
   "source": [
    "Create a heatmap to visualize how correlated variables are. Consider which variables you're interested in examining correlations between."
   ]
  },
  {
   "cell_type": "code",
   "execution_count": 89,
   "metadata": {
    "id": "8Ti_MFF7tekR"
   },
   "outputs": [
    {
     "data": {
      "image/png": "[encoded data removed]",
      "text/plain": [
       "<Figure size 1000x800 with 2 Axes>"
      ]
     },
     "metadata": {},
     "output_type": "display_data"
    }
   ],
   "source": [
    "# Create a heatmap to visualize how correlated variables are\n",
    "plt.figure(figsize=(10,8))\n",
    "numeric_data = data.select_dtypes(include=['number'])\n",
    "\n",
    "sns.heatmap(numeric_data.corr(),annot=True,cmap='coolwarm')\n",
    "plt.show()"
   ]
  },
  {
   "cell_type": "markdown",
   "metadata": {
    "id": "zyQgcrDI00bT"
   },
   "source": [
    "One of the model assumptions for logistic regression is no severe multicollinearity among the features. Take this into consideration as you examine the heatmap and choose which features to proceed with."
   ]
  },
  {
   "cell_type": "markdown",
   "metadata": {
    "id": "3n1eikFh8akS"
   },
   "source": [
    "<img src=\"images/Construct.png\" width=\"100\" height=\"100\" align=left>\n",
    "\n",
    "## **PACE: Construct**\n",
    "Consider the questions in your PACE Strategy Document to reflect on the Construct stage."
   ]
  },
  {
   "cell_type": "markdown",
   "metadata": {
    "id": "5VZowX9rhU1o"
   },
   "source": [
    "### **Task 3. Feature engineering**"
   ]
  },
  {
   "cell_type": "markdown",
   "metadata": {
    "id": "WhocrccZBcwx"
   },
   "source": [
    "Select the outcome variable."
   ]
  },
  {
   "cell_type": "code",
   "execution_count": 90,
   "metadata": {
    "id": "uH6jiQECBgFn"
   },
   "outputs": [],
   "source": [
    "# Select outcome variable\n",
    "\n",
    "y = data['claim_status']\n",
    "X= data.drop(['claim_status','#','video_transcription_text'],axis=1)\n"
   ]
  },
  {
   "cell_type": "markdown",
   "metadata": {
    "id": "qdb3JshxMnD1"
   },
   "source": [
    "**Feature selection and transformation**"
   ]
  },
  {
   "cell_type": "markdown",
   "metadata": {
    "id": "WPxEovpUBZfk"
   },
   "source": [
    "Encode target and catgorical variables."
   ]
  },
  {
   "cell_type": "code",
   "execution_count": 91,
   "metadata": {
    "id": "iJ5C6M5zCP3k"
   },
   "outputs": [],
   "source": [
    "y = y.map({'claim':0,'opinion':1})\n",
    "\n",
    "X = pd.get_dummies(X,drop_first=True)\n"
   ]
  },
  {
   "cell_type": "markdown",
   "metadata": {
    "id": "zZR2BdQxZQjN"
   },
   "source": [
    "### **Task 4. Split the data**\n"
   ]
  },
  {
   "cell_type": "markdown",
   "metadata": {
    "id": "6frX3ATWZVgL"
   },
   "source": [
    "#### **Task 5: Create train/validate/test sets**"
   ]
  },
  {
   "cell_type": "markdown",
   "metadata": {
    "id": "i_3k0QfaNt1R"
   },
   "source": [
    "Split data into training and testing sets, 80/20."
   ]
  },
  {
   "cell_type": "code",
   "execution_count": 92,
   "metadata": {
    "id": "D5OpxNZYOISV"
   },
   "outputs": [],
   "source": [
    "X_tr,X_test,y_tr,y_test = train_test_split(X,y,test_size=0.2,random_state=0)"
   ]
  },
  {
   "cell_type": "markdown",
   "metadata": {
    "id": "rbpnEjop82zL"
   },
   "source": [
    "Split the training set into training and validation sets, 75/25, to result in a final ratio of 60/20/20 for train/validate/test sets."
   ]
  },
  {
   "cell_type": "code",
   "execution_count": 93,
   "metadata": {
    "id": "A9O-DjLxOJvT"
   },
   "outputs": [],
   "source": [
    "X_train, X_val, y_train, y_val = train_test_split(X_tr, y_tr, test_size=0.25, random_state=0)"
   ]
  },
  {
   "cell_type": "markdown",
   "metadata": {
    "id": "tJ60GPLdOMXr"
   },
   "source": [
    "Confirm that the dimensions of the training, validation, and testing sets are in alignment."
   ]
  },
  {
   "cell_type": "code",
   "execution_count": 94,
   "metadata": {
    "id": "TefBRXUu8zWR"
   },
   "outputs": [
    {
     "data": {
      "text/plain": [
       "((11450, 11), (3817, 11), (3817, 11), (11450,), (3817,), (3817,))"
      ]
     },
     "execution_count": 94,
     "metadata": {},
     "output_type": "execute_result"
    }
   ],
   "source": [
    "X_train.shape, X_val.shape, X_test.shape, y_train.shape, y_val.shape, y_test.shape"
   ]
  },
  {
   "cell_type": "markdown",
   "metadata": {
    "id": "3_es-Jh1atUz"
   },
   "source": [
    "### **Task 6. Build models**\n"
   ]
  },
  {
   "cell_type": "markdown",
   "metadata": {
    "id": "HdBwwccoP0SU"
   },
   "source": [
    "### **Build a random forest model**"
   ]
  },
  {
   "cell_type": "markdown",
   "metadata": {
    "id": "ty8ieBkDBH4g"
   },
   "source": [
    "Fit a random forest model to the training set. Use cross-validation to tune the hyperparameters and select the model that performs best on recall."
   ]
  },
  {
   "cell_type": "code",
   "execution_count": 95,
   "metadata": {
    "id": "sNcke2SNvZrN"
   },
   "outputs": [],
   "source": [
    "# Instantiate the random forest classifier\n",
    "rf = RandomForestClassifier(random_state=0)\n",
    "\n",
    "\n",
    "# Create a dictionary of hyperparameters to tune\n",
    "cv_params = {'max_depth': [5, 7,15, None],\n",
    "             'max_features': [0.25, 0.5,0.75,1],\n",
    "             'max_samples': [0.7],\n",
    "             'min_samples_leaf': [1,2,3],\n",
    "             'min_samples_split': [1,2,3],\n",
    "             'n_estimators': [50,75,100,200],\n",
    "             }\n",
    "\n",
    "\n",
    "# Define a dictionary of scoring metrics to capture\n",
    "scoring = {'accuracy', 'precision', 'recall', 'f1'}\n",
    "\n",
    "# Instantiate the GridSearchCV object\n",
    "rf_cv = GridSearchCV(rf, cv_params, scoring=scoring, cv=5, refit='recall')\n"
   ]
  },
  {
   "cell_type": "code",
   "execution_count": 96,
   "metadata": {},
   "outputs": [
    {
     "name": "stderr",
     "output_type": "stream",
     "text": [
      "/opt/conda/lib/python3.11/site-packages/sklearn/model_selection/_validation.py:378: FitFailedWarning: \n",
      "960 fits failed out of a total of 2880.\n",
      "The score on these train-test partitions for these parameters will be set to nan.\n",
      "If these failures are not expected, you can try to debug them by setting error_score='raise'.\n",
      "\n",
      "Below are more details about the failures:\n",
      "--------------------------------------------------------------------------------\n",
      "960 fits failed with the following error:\n",
      "Traceback (most recent call last):\n",
      "  File \"/opt/conda/lib/python3.11/site-packages/sklearn/model_selection/_validation.py\", line 686, in _fit_and_score\n",
      "    estimator.fit(X_train, y_train, **fit_params)\n",
      "  File \"/opt/conda/lib/python3.11/site-packages/sklearn/ensemble/_forest.py\", line 340, in fit\n",
      "    self._validate_params()\n",
      "  File \"/opt/conda/lib/python3.11/site-packages/sklearn/base.py\", line 600, in _validate_params\n",
      "    validate_parameter_constraints(\n",
      "  File \"/opt/conda/lib/python3.11/site-packages/sklearn/utils/_param_validation.py\", line 97, in validate_parameter_constraints\n",
      "    raise InvalidParameterError(\n",
      "sklearn.utils._param_validation.InvalidParameterError: The 'min_samples_split' parameter of RandomForestClassifier must be an int in the range [2, inf) or a float in the range (0.0, 1.0]. Got 1 instead.\n",
      "\n",
      "  warnings.warn(some_fits_failed_message, FitFailedWarning)\n",
      "/opt/conda/lib/python3.11/site-packages/sklearn/model_selection/_search.py:952: UserWarning: One or more of the test scores are non-finite: [       nan        nan        nan        nan 0.99353712 0.99458515\n",
      " 0.99475983 0.99475983 0.99353712 0.99467249 0.99475983 0.99475983\n",
      "        nan        nan        nan        nan 0.99283843 0.99449782\n",
      " 0.99475983 0.9949345  0.99283843 0.99449782 0.99475983 0.9949345\n",
      "        nan        nan        nan        nan 0.99318777 0.99449782\n",
      " 0.99467249 0.99484716 0.99318777 0.99449782 0.99467249 0.99484716\n",
      "        nan        nan        nan        nan 0.99510917 0.99510917\n",
      " 0.99510917 0.99510917 0.99510917 0.99510917 0.99510917 0.99510917\n",
      "        nan        nan        nan        nan 0.99510917 0.99510917\n",
      " 0.99510917 0.99510917 0.99510917 0.99510917 0.99510917 0.99510917\n",
      "        nan        nan        nan        nan 0.99502183 0.99510917\n",
      " 0.99502183 0.99502183 0.99502183 0.99510917 0.99502183 0.99502183\n",
      "        nan        nan        nan        nan 0.99510917 0.99510917\n",
      " 0.99510917 0.99510917 0.99510917 0.99510917 0.99510917 0.99510917\n",
      "        nan        nan        nan        nan 0.99510917 0.99510917\n",
      " 0.99510917 0.99510917 0.99510917 0.99510917 0.99510917 0.99510917\n",
      "        nan        nan        nan        nan 0.99510917 0.99510917\n",
      " 0.99510917 0.99510917 0.99510917 0.99510917 0.99510917 0.99510917\n",
      "        nan        nan        nan        nan 0.98349345 0.98489083\n",
      " 0.98462882 0.98497817 0.98358079 0.9850655  0.98471616 0.98480349\n",
      "        nan        nan        nan        nan 0.9828821  0.98497817\n",
      " 0.98436681 0.98489083 0.9828821  0.98497817 0.98436681 0.98489083\n",
      "        nan        nan        nan        nan 0.98349345 0.98489083\n",
      " 0.98445415 0.98489083 0.98349345 0.98489083 0.98445415 0.98489083\n",
      "        nan        nan        nan        nan 0.99484716 0.99484716\n",
      " 0.99484716 0.99484716 0.99449782 0.99484716 0.99475983 0.99475983\n",
      "        nan        nan        nan        nan 0.99467249 0.99475983\n",
      " 0.99484716 0.99475983 0.99467249 0.99475983 0.99484716 0.99475983\n",
      "        nan        nan        nan        nan 0.99484716 0.99502183\n",
      " 0.9949345  0.99484716 0.99484716 0.99502183 0.9949345  0.99484716\n",
      "        nan        nan        nan        nan 0.99510917 0.99510917\n",
      " 0.99510917 0.99510917 0.99510917 0.99510917 0.99510917 0.99510917\n",
      "        nan        nan        nan        nan 0.99510917 0.99510917\n",
      " 0.99510917 0.99510917 0.99510917 0.99510917 0.99510917 0.99510917\n",
      "        nan        nan        nan        nan 0.99502183 0.99510917\n",
      " 0.99510917 0.99502183 0.99502183 0.99510917 0.99510917 0.99502183\n",
      "        nan        nan        nan        nan 0.99510917 0.99510917\n",
      " 0.99510917 0.99510917 0.99510917 0.99510917 0.99510917 0.99510917\n",
      "        nan        nan        nan        nan 0.99510917 0.99510917\n",
      " 0.99519651 0.99510917 0.99510917 0.99510917 0.99519651 0.99510917\n",
      "        nan        nan        nan        nan 0.99510917 0.99510917\n",
      " 0.99510917 0.99510917 0.99510917 0.99510917 0.99510917 0.99510917\n",
      "        nan        nan        nan        nan 0.99170306 0.99292576\n",
      " 0.99222707 0.99371179 0.99213974 0.9930131  0.99213974 0.99388646\n",
      "        nan        nan        nan        nan 0.98951965 0.99213974\n",
      " 0.99021834 0.99318777 0.98951965 0.99213974 0.99021834 0.99318777\n",
      "        nan        nan        nan        nan 0.98899563 0.99179039\n",
      " 0.99039301 0.99310044 0.98899563 0.99179039 0.99039301 0.99310044\n",
      "        nan        nan        nan        nan 0.99484716 0.9949345\n",
      " 0.99484716 0.9949345  0.99484716 0.99484716 0.99484716 0.99484716\n",
      "        nan        nan        nan        nan 0.9949345  0.9949345\n",
      " 0.9949345  0.9949345  0.9949345  0.9949345  0.9949345  0.9949345\n",
      "        nan        nan        nan        nan 0.9949345  0.9949345\n",
      " 0.9949345  0.99502183 0.9949345  0.9949345  0.9949345  0.99502183\n",
      "        nan        nan        nan        nan 0.99502183 0.99502183\n",
      " 0.99502183 0.99510917 0.99510917 0.99510917 0.99510917 0.99510917\n",
      "        nan        nan        nan        nan 0.99510917 0.99510917\n",
      " 0.99510917 0.99510917 0.99510917 0.99510917 0.99510917 0.99510917\n",
      "        nan        nan        nan        nan 0.99502183 0.99510917\n",
      " 0.99510917 0.99510917 0.99502183 0.99510917 0.99510917 0.99510917\n",
      "        nan        nan        nan        nan 0.99510917 0.99510917\n",
      " 0.99510917 0.99510917 0.99510917 0.99510917 0.99510917 0.99510917\n",
      "        nan        nan        nan        nan 0.99519651 0.99519651\n",
      " 0.99519651 0.99519651 0.99519651 0.99519651 0.99519651 0.99519651\n",
      "        nan        nan        nan        nan 0.99510917 0.99510917\n",
      " 0.99510917 0.99510917 0.99510917 0.99510917 0.99510917 0.99510917\n",
      "        nan        nan        nan        nan 0.99441048 0.99467249\n",
      " 0.99467249 0.9949345  0.99432314 0.99475983 0.99475983 0.99484716\n",
      "        nan        nan        nan        nan 0.99467249 0.99484716\n",
      " 0.99467249 0.99475983 0.99467249 0.99484716 0.99467249 0.99475983\n",
      "        nan        nan        nan        nan 0.99458515 0.99475983\n",
      " 0.99484716 0.99484716 0.99458515 0.99475983 0.99484716 0.99484716\n",
      "        nan        nan        nan        nan 0.99475983 0.99484716\n",
      " 0.9949345  0.99502183 0.99484716 0.99484716 0.99484716 0.99484716\n",
      "        nan        nan        nan        nan 0.99510917 0.99510917\n",
      " 0.99484716 0.99502183 0.99510917 0.99510917 0.99484716 0.99502183\n",
      "        nan        nan        nan        nan 0.9949345  0.9949345\n",
      " 0.99484716 0.9949345  0.9949345  0.9949345  0.99484716 0.9949345\n",
      "        nan        nan        nan        nan 0.99510917 0.99510917\n",
      " 0.99510917 0.99510917 0.99510917 0.99510917 0.99510917 0.99510917\n",
      "        nan        nan        nan        nan 0.99510917 0.99510917\n",
      " 0.99510917 0.99510917 0.99510917 0.99510917 0.99510917 0.99510917\n",
      "        nan        nan        nan        nan 0.99502183 0.99502183\n",
      " 0.99502183 0.99510917 0.99502183 0.99502183 0.99502183 0.99510917\n",
      "        nan        nan        nan        nan 0.99519651 0.99510917\n",
      " 0.99510917 0.99510917 0.99510917 0.99510917 0.99510917 0.99510917\n",
      "        nan        nan        nan        nan 0.99510917 0.99519651\n",
      " 0.99519651 0.99519651 0.99510917 0.99519651 0.99519651 0.99519651\n",
      "        nan        nan        nan        nan 0.99510917 0.99510917\n",
      " 0.99510917 0.99510917 0.99510917 0.99510917 0.99510917 0.99510917\n",
      "        nan        nan        nan        nan 0.99449782 0.99458515\n",
      " 0.99467249 0.99475983 0.99441048 0.99475983 0.9949345  0.9949345\n",
      "        nan        nan        nan        nan 0.99475983 0.9949345\n",
      " 0.99484716 0.99484716 0.99475983 0.9949345  0.99484716 0.99484716\n",
      "        nan        nan        nan        nan 0.99467249 0.99467249\n",
      " 0.99475983 0.99484716 0.99467249 0.99467249 0.99475983 0.99484716]\n",
      "  warnings.warn(\n",
      "/opt/conda/lib/python3.11/site-packages/sklearn/model_selection/_search.py:952: UserWarning: One or more of the test scores are non-finite: [       nan        nan        nan        nan 0.98760487 0.98967911\n",
      " 0.99002706 0.99002706 0.98760487 0.9898524  0.99002706 0.99002706\n",
      "        nan        nan        nan        nan 0.98623205 0.98950399\n",
      " 0.99002706 0.99002923 0.98623205 0.98950399 0.99002706 0.99002923\n",
      "        nan        nan        nan        nan 0.98674009 0.98933449\n",
      " 0.98968321 0.98985789 0.98674009 0.98933449 0.98968321 0.98985789\n",
      "        nan        nan        nan        nan 0.99072542 0.99072542\n",
      " 0.99072542 0.99072542 0.99072542 0.99072542 0.99072542 0.99072542\n",
      "        nan        nan        nan        nan 0.99072542 0.99072542\n",
      " 0.99072542 0.99072542 0.99072542 0.99072542 0.99072542 0.99072542\n",
      "        nan        nan        nan        nan 0.99055122 0.99072542\n",
      " 0.99055122 0.99055122 0.99055122 0.99072542 0.99055122 0.99055122\n",
      "        nan        nan        nan        nan 0.99072542 0.99072542\n",
      " 0.99072542 0.99072542 0.99072542 0.99072542 0.99072542 0.99072542\n",
      "        nan        nan        nan        nan 0.99072542 0.99072542\n",
      " 0.99072542 0.99072542 0.99072542 0.99072542 0.99072542 0.99072542\n",
      "        nan        nan        nan        nan 0.99072542 0.99072542\n",
      " 0.99072542 0.99072542 0.99072542 0.99072542 0.99072542 0.99072542\n",
      "        nan        nan        nan        nan 0.96801345 0.97054046\n",
      " 0.97001345 0.97050512 0.96817637 0.97087787 0.97017337 0.97016734\n",
      "        nan        nan        nan        nan 0.96684808 0.97068817\n",
      " 0.96950152 0.97033357 0.96684808 0.97068817 0.96950152 0.97033357\n",
      "        nan        nan        nan        nan 0.9681717  0.97036403\n",
      " 0.96967034 0.97033871 0.9681717  0.97036403 0.96967034 0.97033871\n",
      "        nan        nan        nan        nan 0.99020096 0.99020264\n",
      " 0.99020096 0.99020096 0.98968043 0.99002875 0.99002706 0.99002767\n",
      "        nan        nan        nan        nan 0.98985301 0.99002767\n",
      " 0.99020096 0.99002767 0.98985301 0.99002767 0.99020096 0.99002767\n",
      "        nan        nan        nan        nan 0.99002753 0.99020478\n",
      " 0.99020205 0.99002875 0.99002753 0.99020478 0.99020205 0.99002875\n",
      "        nan        nan        nan        nan 0.99072542 0.99072542\n",
      " 0.99072542 0.99072542 0.99072542 0.99072542 0.99072542 0.99072542\n",
      "        nan        nan        nan        nan 0.99072542 0.99072542\n",
      " 0.99072542 0.99072542 0.99072542 0.99072542 0.99072542 0.99072542\n",
      "        nan        nan        nan        nan 0.99055122 0.99072542\n",
      " 0.99072542 0.99055122 0.99055122 0.99072542 0.99072542 0.99055122\n",
      "        nan        nan        nan        nan 0.99072542 0.99072542\n",
      " 0.99072542 0.99072542 0.99072542 0.99072542 0.99072542 0.99072542\n",
      "        nan        nan        nan        nan 0.99072542 0.99072542\n",
      " 0.99089994 0.99072542 0.99072542 0.99072542 0.99089994 0.99072542\n",
      "        nan        nan        nan        nan 0.99072542 0.99072542\n",
      " 0.99072542 0.99072542 0.99072542 0.99072542 0.99072542 0.99072542\n",
      "        nan        nan        nan        nan 0.98369169 0.98607522\n",
      " 0.98469318 0.98743947 0.98453536 0.98623703 0.98452688 0.98778078\n",
      "        nan        nan        nan        nan 0.9795978  0.98453477\n",
      " 0.98078255 0.98640437 0.9795978  0.98453477 0.98078255 0.98640437\n",
      "        nan        nan        nan        nan 0.97859425 0.98371336\n",
      " 0.98098121 0.9862396  0.97859425 0.98371336 0.98098121 0.9862396\n",
      "        nan        nan        nan        nan 0.99020096 0.99020205\n",
      " 0.99020096 0.99020205 0.99020096 0.99020096 0.99020096 0.99020096\n",
      "        nan        nan        nan        nan 0.99037594 0.99020205\n",
      " 0.99020205 0.99020205 0.99037594 0.99020205 0.99020205 0.99020205\n",
      "        nan        nan        nan        nan 0.99020205 0.99020205\n",
      " 0.99020205 0.99020313 0.99020205 0.99020205 0.99020205 0.99020313\n",
      "        nan        nan        nan        nan 0.99055122 0.99055122\n",
      " 0.99055122 0.99072542 0.99072542 0.99072542 0.99072542 0.99072542\n",
      "        nan        nan        nan        nan 0.99072542 0.99072542\n",
      " 0.99072542 0.99072542 0.99072542 0.99072542 0.99072542 0.99072542\n",
      "        nan        nan        nan        nan 0.99055122 0.99072542\n",
      " 0.99072542 0.99072542 0.99055122 0.99072542 0.99072542 0.99072542\n",
      "        nan        nan        nan        nan 0.99072542 0.99072542\n",
      " 0.99072542 0.99072542 0.99072542 0.99072542 0.99072542 0.99072542\n",
      "        nan        nan        nan        nan 0.99089994 0.99089994\n",
      " 0.99089994 0.99089994 0.99089994 0.99089994 0.99089994 0.99089994\n",
      "        nan        nan        nan        nan 0.99072542 0.99072542\n",
      " 0.99072542 0.99072542 0.99072542 0.99072542 0.99072542 0.99072542\n",
      "        nan        nan        nan        nan 0.98933448 0.98951024\n",
      " 0.98951024 0.99002923 0.98933037 0.98985363 0.98985363 0.98985486\n",
      "        nan        nan        nan        nan 0.98985573 0.98985486\n",
      " 0.9896823  0.98968353 0.98985573 0.98985486 0.9896823  0.98968353\n",
      "        nan        nan        nan        nan 0.98950857 0.98985485\n",
      " 0.99002814 0.98985789 0.98950857 0.98985485 0.99002814 0.98985789\n",
      "        nan        nan        nan        nan 0.99019988 0.99020096\n",
      " 0.99037594 0.99020313 0.99020096 0.99020096 0.99020096 0.99020096\n",
      "        nan        nan        nan        nan 0.99037779 0.99037779\n",
      " 0.99020096 0.99020313 0.99037779 0.99037779 0.99020096 0.99020313\n",
      "        nan        nan        nan        nan 0.99020205 0.99020205\n",
      " 0.99020096 0.99002983 0.99020205 0.99020205 0.99020096 0.99002983\n",
      "        nan        nan        nan        nan 0.99072542 0.99072542\n",
      " 0.99072542 0.99072542 0.99072542 0.99072542 0.99072542 0.99072542\n",
      "        nan        nan        nan        nan 0.99072542 0.99072542\n",
      " 0.99072542 0.99072542 0.99072542 0.99072542 0.99072542 0.99072542\n",
      "        nan        nan        nan        nan 0.99055122 0.99055122\n",
      " 0.99055122 0.99072542 0.99055122 0.99055122 0.99055122 0.99072542\n",
      "        nan        nan        nan        nan 0.99089994 0.99072542\n",
      " 0.99072542 0.99072542 0.99072542 0.99072542 0.99072542 0.99072542\n",
      "        nan        nan        nan        nan 0.99072542 0.99089994\n",
      " 0.99089994 0.99089994 0.99072542 0.99089994 0.99089994 0.99089994\n",
      "        nan        nan        nan        nan 0.99072542 0.99072542\n",
      " 0.99072542 0.99072542 0.99072542 0.99072542 0.99072542 0.99072542\n",
      "        nan        nan        nan        nan 0.98950399 0.989509\n",
      " 0.98968034 0.98985363 0.98915924 0.98968081 0.99002923 0.99002923\n",
      "        nan        nan        nan        nan 0.99002706 0.99002923\n",
      " 0.99002814 0.98985486 0.99002706 0.99002923 0.99002814 0.98985486\n",
      "        nan        nan        nan        nan 0.98968186 0.98968034\n",
      " 0.98968157 0.98985486 0.98968186 0.98968034 0.98968157 0.98985486]\n",
      "  warnings.warn(\n",
      "/opt/conda/lib/python3.11/site-packages/sklearn/model_selection/_search.py:952: UserWarning: One or more of the test scores are non-finite: [       nan        nan        nan        nan 0.99350028 0.99454797\n",
      " 0.99472325 0.99472325 0.99350028 0.9946355  0.99472325 0.99472325\n",
      "        nan        nan        nan        nan 0.99280399 0.99446021\n",
      " 0.99472325 0.99490008 0.99280399 0.99446021 0.99472325 0.99490008\n",
      "        nan        nan        nan        nan 0.99315065 0.99446168\n",
      " 0.99463712 0.9948131  0.99315065 0.99446168 0.99463712 0.9948131\n",
      "        nan        nan        nan        nan 0.99507443 0.99507443\n",
      " 0.99507443 0.99507443 0.99507443 0.99507443 0.99507443 0.99507443\n",
      "        nan        nan        nan        nan 0.99507443 0.99507443\n",
      " 0.99507443 0.99507443 0.99507443 0.99507443 0.99507443 0.99507443\n",
      "        nan        nan        nan        nan 0.99498668 0.99507443\n",
      " 0.99498668 0.99498668 0.99498668 0.99507443 0.99498668 0.99498668\n",
      "        nan        nan        nan        nan 0.99507443 0.99507443\n",
      " 0.99507443 0.99507443 0.99507443 0.99507443 0.99507443 0.99507443\n",
      "        nan        nan        nan        nan 0.99507443 0.99507443\n",
      " 0.99507443 0.99507443 0.99507443 0.99507443 0.99507443 0.99507443\n",
      "        nan        nan        nan        nan 0.99507443 0.99507443\n",
      " 0.99507443 0.99507443 0.99507443 0.99507443 0.99507443 0.99507443\n",
      "        nan        nan        nan        nan 0.98356869 0.98494973\n",
      " 0.98468532 0.98502736 0.98365343 0.98512242 0.98476923 0.98485452\n",
      "        nan        nan        nan        nan 0.98296843 0.9850307\n",
      " 0.98442483 0.98494023 0.98296843 0.9850307  0.98442483 0.98494023\n",
      "        nan        nan        nan        nan 0.9835652  0.9849483\n",
      " 0.98451106 0.98494157 0.9835652  0.9849483  0.98451106 0.98494157\n",
      "        nan        nan        nan        nan 0.99481093 0.99481124\n",
      " 0.99481093 0.99481093 0.99446013 0.99481186 0.99472325 0.99472341\n",
      "        nan        nan        nan        nan 0.99463565 0.99472341\n",
      " 0.99481093 0.99472341 0.99463565 0.99472341 0.99481093 0.99472341\n",
      "        nan        nan        nan        nan 0.99481163 0.99498784\n",
      " 0.99489939 0.99481186 0.99481163 0.99498784 0.99489939 0.99481186\n",
      "        nan        nan        nan        nan 0.99507443 0.99507443\n",
      " 0.99507443 0.99507443 0.99507443 0.99507443 0.99507443 0.99507443\n",
      "        nan        nan        nan        nan 0.99507443 0.99507443\n",
      " 0.99507443 0.99507443 0.99507443 0.99507443 0.99507443 0.99507443\n",
      "        nan        nan        nan        nan 0.99498668 0.99507443\n",
      " 0.99507443 0.99498668 0.99498668 0.99507443 0.99507443 0.99498668\n",
      "        nan        nan        nan        nan 0.99507443 0.99507443\n",
      " 0.99507443 0.99507443 0.99507443 0.99507443 0.99507443 0.99507443\n",
      "        nan        nan        nan        nan 0.99507443 0.99507443\n",
      " 0.99516227 0.99507443 0.99507443 0.99507443 0.99516227 0.99507443\n",
      "        nan        nan        nan        nan 0.99507443 0.99507443\n",
      " 0.99507443 0.99507443 0.99507443 0.99507443 0.99507443 0.99507443\n",
      "        nan        nan        nan        nan 0.99168181 0.99289573\n",
      " 0.99219668 0.99367757 0.99211335 0.99298027 0.99211084 0.99385132\n",
      "        nan        nan        nan        nan 0.98951047 0.9921129\n",
      " 0.99020314 0.99315365 0.98951047 0.9921129  0.99020314 0.99315365\n",
      "        nan        nan        nan        nan 0.98899389 0.9917742\n",
      " 0.99038447 0.99306834 0.98899389 0.9917742  0.99038447 0.99306834\n",
      "        nan        nan        nan        nan 0.99481093 0.99489939\n",
      " 0.99481093 0.99489939 0.99481093 0.99481093 0.99481093 0.99481093\n",
      "        nan        nan        nan        nan 0.99489876 0.99489939\n",
      " 0.99489939 0.99489939 0.99489876 0.99489939 0.99489939 0.99489939\n",
      "        nan        nan        nan        nan 0.99489939 0.99489939\n",
      " 0.99489939 0.99498776 0.99489939 0.99489939 0.99489939 0.99498776\n",
      "        nan        nan        nan        nan 0.99498668 0.99498668\n",
      " 0.99498668 0.99507443 0.99507443 0.99507443 0.99507443 0.99507443\n",
      "        nan        nan        nan        nan 0.99507443 0.99507443\n",
      " 0.99507443 0.99507443 0.99507443 0.99507443 0.99507443 0.99507443\n",
      "        nan        nan        nan        nan 0.99498668 0.99507443\n",
      " 0.99507443 0.99507443 0.99498668 0.99507443 0.99507443 0.99507443\n",
      "        nan        nan        nan        nan 0.99507443 0.99507443\n",
      " 0.99507443 0.99507443 0.99507443 0.99507443 0.99507443 0.99507443\n",
      "        nan        nan        nan        nan 0.99516227 0.99516227\n",
      " 0.99516227 0.99516227 0.99516227 0.99516227 0.99516227 0.99516227\n",
      "        nan        nan        nan        nan 0.99507443 0.99507443\n",
      " 0.99507443 0.99507443 0.99507443 0.99507443 0.99507443 0.99507443\n",
      "        nan        nan        nan        nan 0.99437346 0.99463781\n",
      " 0.99463781 0.99490008 0.99428431 0.99472395 0.99472395 0.99481233\n",
      "        nan        nan        nan        nan 0.99463626 0.99481233\n",
      " 0.99463696 0.99472534 0.99463626 0.99481233 0.99463696 0.99472534\n",
      "        nan        nan        nan        nan 0.99454929 0.99472418\n",
      " 0.99481171 0.9948131  0.99454929 0.99472418 0.99481171 0.9948131\n",
      "        nan        nan        nan        nan 0.9947224  0.99481093\n",
      " 0.99489876 0.99498776 0.99481093 0.99481093 0.99481093 0.99481093\n",
      "        nan        nan        nan        nan 0.9950756  0.9950756\n",
      " 0.99481093 0.99498776 0.9950756  0.9950756  0.99481093 0.99498776\n",
      "        nan        nan        nan        nan 0.99489939 0.99489939\n",
      " 0.99481093 0.99490024 0.99489939 0.99489939 0.99481093 0.99490024\n",
      "        nan        nan        nan        nan 0.99507443 0.99507443\n",
      " 0.99507443 0.99507443 0.99507443 0.99507443 0.99507443 0.99507443\n",
      "        nan        nan        nan        nan 0.99507443 0.99507443\n",
      " 0.99507443 0.99507443 0.99507443 0.99507443 0.99507443 0.99507443\n",
      "        nan        nan        nan        nan 0.99498668 0.99498668\n",
      " 0.99498668 0.99507443 0.99498668 0.99498668 0.99498668 0.99507443\n",
      "        nan        nan        nan        nan 0.99516227 0.99507443\n",
      " 0.99507443 0.99507443 0.99507443 0.99507443 0.99507443 0.99507443\n",
      "        nan        nan        nan        nan 0.99507443 0.99516227\n",
      " 0.99516227 0.99516227 0.99507443 0.99516227 0.99516227 0.99516227\n",
      "        nan        nan        nan        nan 0.99507443 0.99507443\n",
      " 0.99507443 0.99507443 0.99507443 0.99507443 0.99507443 0.99507443\n",
      "        nan        nan        nan        nan 0.99446021 0.99454944\n",
      " 0.99463643 0.99472395 0.99437362 0.99472465 0.99490008 0.99490008\n",
      "        nan        nan        nan        nan 0.99472325 0.99490008\n",
      " 0.99481171 0.99481233 0.99472325 0.99490008 0.99481171 0.99481233\n",
      "        nan        nan        nan        nan 0.99463673 0.99463643\n",
      " 0.9947248  0.99481233 0.99463673 0.99463643 0.9947248  0.99481233]\n",
      "  warnings.warn(\n",
      "/opt/conda/lib/python3.11/site-packages/sklearn/model_selection/_search.py:952: UserWarning: One or more of the test scores are non-finite: [       nan        nan        nan        nan 0.99946981 0.99946981\n",
      " 0.99946981 0.99946981 0.99946981 0.99946981 0.99946981 0.99946981\n",
      "        nan        nan        nan        nan 0.99946981 0.99946981\n",
      " 0.99946981 0.99982317 0.99946981 0.99946981 0.99946981 0.99982317\n",
      "        nan        nan        nan        nan 0.99964649 0.99964649\n",
      " 0.99964649 0.99982317 0.99964649 0.99964649 0.99964649 0.99982317\n",
      "        nan        nan        nan        nan 0.99946981 0.99946981\n",
      " 0.99946981 0.99946981 0.99946981 0.99946981 0.99946981 0.99946981\n",
      "        nan        nan        nan        nan 0.99946981 0.99946981\n",
      " 0.99946981 0.99946981 0.99946981 0.99946981 0.99946981 0.99946981\n",
      "        nan        nan        nan        nan 0.99946981 0.99946981\n",
      " 0.99946981 0.99946981 0.99946981 0.99946981 0.99946981 0.99946981\n",
      "        nan        nan        nan        nan 0.99946981 0.99946981\n",
      " 0.99946981 0.99946981 0.99946981 0.99946981 0.99946981 0.99946981\n",
      "        nan        nan        nan        nan 0.99946981 0.99946981\n",
      " 0.99946981 0.99946981 0.99946981 0.99946981 0.99946981 0.99946981\n",
      "        nan        nan        nan        nan 0.99946981 0.99946981\n",
      " 0.99946981 0.99946981 0.99946981 0.99946981 0.99946981 0.99946981\n",
      "        nan        nan        nan        nan 0.99964664 0.99982332\n",
      " 0.99982332 1.         0.99964664 0.99982332 0.99982332 1.\n",
      "        nan        nan        nan        nan 0.99964664 0.99982332\n",
      " 0.99982332 1.         0.99964664 0.99982332 0.99982332 1.\n",
      "        nan        nan        nan        nan 0.99946996 1.\n",
      " 0.99982332 1.         0.99946996 1.         0.99982332 1.\n",
      "        nan        nan        nan        nan 0.99946981 0.99946981\n",
      " 0.99946981 0.99946981 0.99929313 0.99964649 0.99946981 0.99946981\n",
      "        nan        nan        nan        nan 0.99946981 0.99946981\n",
      " 0.99946981 0.99946981 0.99946981 0.99946981 0.99946981 0.99946981\n",
      "        nan        nan        nan        nan 0.99964649 0.99982332\n",
      " 0.99964649 0.99964649 0.99964649 0.99982332 0.99964649 0.99964649\n",
      "        nan        nan        nan        nan 0.99946981 0.99946981\n",
      " 0.99946981 0.99946981 0.99946981 0.99946981 0.99946981 0.99946981\n",
      "        nan        nan        nan        nan 0.99946981 0.99946981\n",
      " 0.99946981 0.99946981 0.99946981 0.99946981 0.99946981 0.99946981\n",
      "        nan        nan        nan        nan 0.99946981 0.99946981\n",
      " 0.99946981 0.99946981 0.99946981 0.99946981 0.99946981 0.99946981\n",
      "        nan        nan        nan        nan 0.99946981 0.99946981\n",
      " 0.99946981 0.99946981 0.99946981 0.99946981 0.99946981 0.99946981\n",
      "        nan        nan        nan        nan 0.99946981 0.99946981\n",
      " 0.99946981 0.99946981 0.99946981 0.99946981 0.99946981 0.99946981\n",
      "        nan        nan        nan        nan 0.99946981 0.99946981\n",
      " 0.99946981 0.99946981 0.99946981 0.99946981 0.99946981 0.99946981\n",
      "        nan        nan        nan        nan 0.99982317 0.99982317\n",
      " 0.99982317 1.         0.99982317 0.99982317 0.99982317 1.\n",
      "        nan        nan        nan        nan 0.99964649 0.99982317\n",
      " 0.99982317 1.         0.99964649 0.99982317 0.99982317 1.\n",
      "        nan        nan        nan        nan 0.99964664 1.\n",
      " 1.         1.         0.99964664 1.         1.         1.\n",
      "        nan        nan        nan        nan 0.99946981 0.99964649\n",
      " 0.99946981 0.99964649 0.99946981 0.99946981 0.99946981 0.99946981\n",
      "        nan        nan        nan        nan 0.99946981 0.99964649\n",
      " 0.99964649 0.99964649 0.99946981 0.99964649 0.99964649 0.99964649\n",
      "        nan        nan        nan        nan 0.99964649 0.99964649\n",
      " 0.99964649 0.99982317 0.99964649 0.99964649 0.99964649 0.99982317\n",
      "        nan        nan        nan        nan 0.99946981 0.99946981\n",
      " 0.99946981 0.99946981 0.99946981 0.99946981 0.99946981 0.99946981\n",
      "        nan        nan        nan        nan 0.99946981 0.99946981\n",
      " 0.99946981 0.99946981 0.99946981 0.99946981 0.99946981 0.99946981\n",
      "        nan        nan        nan        nan 0.99946981 0.99946981\n",
      " 0.99946981 0.99946981 0.99946981 0.99946981 0.99946981 0.99946981\n",
      "        nan        nan        nan        nan 0.99946981 0.99946981\n",
      " 0.99946981 0.99946981 0.99946981 0.99946981 0.99946981 0.99946981\n",
      "        nan        nan        nan        nan 0.99946981 0.99946981\n",
      " 0.99946981 0.99946981 0.99946981 0.99946981 0.99946981 0.99946981\n",
      "        nan        nan        nan        nan 0.99946981 0.99946981\n",
      " 0.99946981 0.99946981 0.99946981 0.99946981 0.99946981 0.99946981\n",
      "        nan        nan        nan        nan 0.99946981 0.99982317\n",
      " 0.99982317 0.99982317 0.99929313 0.99964649 0.99964649 0.99982317\n",
      "        nan        nan        nan        nan 0.99946981 0.99982317\n",
      " 0.99964649 0.99982317 0.99946981 0.99982317 0.99964649 0.99982317\n",
      "        nan        nan        nan        nan 0.99964633 0.99964649\n",
      " 0.99964649 0.99982317 0.99964633 0.99964649 0.99964649 0.99982317\n",
      "        nan        nan        nan        nan 0.99929313 0.99946981\n",
      " 0.99946981 0.99982317 0.99946981 0.99946981 0.99946981 0.99946981\n",
      "        nan        nan        nan        nan 0.99982317 0.99982317\n",
      " 0.99946981 0.99982317 0.99982317 0.99982317 0.99946981 0.99982317\n",
      "        nan        nan        nan        nan 0.99964649 0.99964649\n",
      " 0.99946981 0.99982317 0.99964649 0.99964649 0.99946981 0.99982317\n",
      "        nan        nan        nan        nan 0.99946981 0.99946981\n",
      " 0.99946981 0.99946981 0.99946981 0.99946981 0.99946981 0.99946981\n",
      "        nan        nan        nan        nan 0.99946981 0.99946981\n",
      " 0.99946981 0.99946981 0.99946981 0.99946981 0.99946981 0.99946981\n",
      "        nan        nan        nan        nan 0.99946981 0.99946981\n",
      " 0.99946981 0.99946981 0.99946981 0.99946981 0.99946981 0.99946981\n",
      "        nan        nan        nan        nan 0.99946981 0.99946981\n",
      " 0.99946981 0.99946981 0.99946981 0.99946981 0.99946981 0.99946981\n",
      "        nan        nan        nan        nan 0.99946981 0.99946981\n",
      " 0.99946981 0.99946981 0.99946981 0.99946981 0.99946981 0.99946981\n",
      "        nan        nan        nan        nan 0.99946981 0.99946981\n",
      " 0.99946981 0.99946981 0.99946981 0.99946981 0.99946981 0.99946981\n",
      "        nan        nan        nan        nan 0.99946981 0.99964649\n",
      " 0.99964649 0.99964649 0.99964649 0.99982317 0.99982317 0.99982317\n",
      "        nan        nan        nan        nan 0.99946981 0.99982317\n",
      " 0.99964649 0.99982317 0.99946981 0.99982317 0.99964649 0.99982317\n",
      "        nan        nan        nan        nan 0.99964649 0.99964649\n",
      " 0.99982317 0.99982317 0.99964649 0.99964649 0.99982317 0.99982317]\n",
      "  warnings.warn(\n"
     ]
    },
    {
     "name": "stdout",
     "output_type": "stream",
     "text": [
      "CPU times: user 24min 7s, sys: 2.35 s, total: 24min 9s\n",
      "Wall time: 24min 10s\n"
     ]
    },
    {
     "data": {
      "text/html": [
       "<style>#sk-container-id-1 {color: black;background-color: white;}#sk-container-id-1 pre{padding: 0;}#sk-container-id-1 div.sk-toggleable {background-color: white;}#sk-container-id-1 label.sk-toggleable__label {cursor: pointer;display: block;width: 100%;margin-bottom: 0;padding: 0.3em;box-sizing: border-box;text-align: center;}#sk-container-id-1 label.sk-toggleable__label-arrow:before {content: \"▸\";float: left;margin-right: 0.25em;color: #696969;}#sk-container-id-1 label.sk-toggleable__label-arrow:hover:before {color: black;}#sk-container-id-1 div.sk-estimator:hover label.sk-toggleable__label-arrow:before {color: black;}#sk-container-id-1 div.sk-toggleable__content {max-height: 0;max-width: 0;overflow: hidden;text-align: left;background-color: #f0f8ff;}#sk-container-id-1 div.sk-toggleable__content pre {margin: 0.2em;color: black;border-radius: 0.25em;background-color: #f0f8ff;}#sk-container-id-1 input.sk-toggleable__control:checked~div.sk-toggleable__content {max-height: 200px;max-width: 100%;overflow: auto;}#sk-container-id-1 input.sk-toggleable__control:checked~label.sk-toggleable__label-arrow:before {content: \"▾\";}#sk-container-id-1 div.sk-estimator input.sk-toggleable__control:checked~label.sk-toggleable__label {background-color: #d4ebff;}#sk-container-id-1 div.sk-label input.sk-toggleable__control:checked~label.sk-toggleable__label {background-color: #d4ebff;}#sk-container-id-1 input.sk-hidden--visually {border: 0;clip: rect(1px 1px 1px 1px);clip: rect(1px, 1px, 1px, 1px);height: 1px;margin: -1px;overflow: hidden;padding: 0;position: absolute;width: 1px;}#sk-container-id-1 div.sk-estimator {font-family: monospace;background-color: #f0f8ff;border: 1px dotted black;border-radius: 0.25em;box-sizing: border-box;margin-bottom: 0.5em;}#sk-container-id-1 div.sk-estimator:hover {background-color: #d4ebff;}#sk-container-id-1 div.sk-parallel-item::after {content: \"\";width: 100%;border-bottom: 1px solid gray;flex-grow: 1;}#sk-container-id-1 div.sk-label:hover label.sk-toggleable__label {background-color: #d4ebff;}#sk-container-id-1 div.sk-serial::before {content: \"\";position: absolute;border-left: 1px solid gray;box-sizing: border-box;top: 0;bottom: 0;left: 50%;z-index: 0;}#sk-container-id-1 div.sk-serial {display: flex;flex-direction: column;align-items: center;background-color: white;padding-right: 0.2em;padding-left: 0.2em;position: relative;}#sk-container-id-1 div.sk-item {position: relative;z-index: 1;}#sk-container-id-1 div.sk-parallel {display: flex;align-items: stretch;justify-content: center;background-color: white;position: relative;}#sk-container-id-1 div.sk-item::before, #sk-container-id-1 div.sk-parallel-item::before {content: \"\";position: absolute;border-left: 1px solid gray;box-sizing: border-box;top: 0;bottom: 0;left: 50%;z-index: -1;}#sk-container-id-1 div.sk-parallel-item {display: flex;flex-direction: column;z-index: 1;position: relative;background-color: white;}#sk-container-id-1 div.sk-parallel-item:first-child::after {align-self: flex-end;width: 50%;}#sk-container-id-1 div.sk-parallel-item:last-child::after {align-self: flex-start;width: 50%;}#sk-container-id-1 div.sk-parallel-item:only-child::after {width: 0;}#sk-container-id-1 div.sk-dashed-wrapped {border: 1px dashed gray;margin: 0 0.4em 0.5em 0.4em;box-sizing: border-box;padding-bottom: 0.4em;background-color: white;}#sk-container-id-1 div.sk-label label {font-family: monospace;font-weight: bold;display: inline-block;line-height: 1.2em;}#sk-container-id-1 div.sk-label-container {text-align: center;}#sk-container-id-1 div.sk-container {/* jupyter's `normalize.less` sets `[hidden] { display: none; }` but bootstrap.min.css set `[hidden] { display: none !important; }` so we also need the `!important` here to be able to override the default hidden behavior on the sphinx rendered scikit-learn.org. See: https://github.com/scikit-learn/scikit-learn/issues/21755 */display: inline-block !important;position: relative;}#sk-container-id-1 div.sk-text-repr-fallback {display: none;}</style><div id=\"sk-container-id-1\" class=\"sk-top-container\"><div class=\"sk-text-repr-fallback\"><pre>GridSearchCV(cv=5, estimator=RandomForestClassifier(random_state=0),\n",
       "             param_grid={&#x27;max_depth&#x27;: [5, 7, 15, None],\n",
       "                         &#x27;max_features&#x27;: [0.25, 0.5, 0.75, 1],\n",
       "                         &#x27;max_samples&#x27;: [0.7], &#x27;min_samples_leaf&#x27;: [1, 2, 3],\n",
       "                         &#x27;min_samples_split&#x27;: [1, 2, 3],\n",
       "                         &#x27;n_estimators&#x27;: [50, 75, 100, 200]},\n",
       "             refit=&#x27;recall&#x27;, scoring={&#x27;accuracy&#x27;, &#x27;precision&#x27;, &#x27;f1&#x27;, &#x27;recall&#x27;})</pre><b>In a Jupyter environment, please rerun this cell to show the HTML representation or trust the notebook. <br />On GitHub, the HTML representation is unable to render, please try loading this page with nbviewer.org.</b></div><div class=\"sk-container\" hidden><div class=\"sk-item sk-dashed-wrapped\"><div class=\"sk-label-container\"><div class=\"sk-label sk-toggleable\"><input class=\"sk-toggleable__control sk-hidden--visually\" id=\"sk-estimator-id-1\" type=\"checkbox\" ><label for=\"sk-estimator-id-1\" class=\"sk-toggleable__label sk-toggleable__label-arrow\">GridSearchCV</label><div class=\"sk-toggleable__content\"><pre>GridSearchCV(cv=5, estimator=RandomForestClassifier(random_state=0),\n",
       "             param_grid={&#x27;max_depth&#x27;: [5, 7, 15, None],\n",
       "                         &#x27;max_features&#x27;: [0.25, 0.5, 0.75, 1],\n",
       "                         &#x27;max_samples&#x27;: [0.7], &#x27;min_samples_leaf&#x27;: [1, 2, 3],\n",
       "                         &#x27;min_samples_split&#x27;: [1, 2, 3],\n",
       "                         &#x27;n_estimators&#x27;: [50, 75, 100, 200]},\n",
       "             refit=&#x27;recall&#x27;, scoring={&#x27;accuracy&#x27;, &#x27;precision&#x27;, &#x27;f1&#x27;, &#x27;recall&#x27;})</pre></div></div></div><div class=\"sk-parallel\"><div class=\"sk-parallel-item\"><div class=\"sk-item\"><div class=\"sk-label-container\"><div class=\"sk-label sk-toggleable\"><input class=\"sk-toggleable__control sk-hidden--visually\" id=\"sk-estimator-id-2\" type=\"checkbox\" ><label for=\"sk-estimator-id-2\" class=\"sk-toggleable__label sk-toggleable__label-arrow\">estimator: RandomForestClassifier</label><div class=\"sk-toggleable__content\"><pre>RandomForestClassifier(random_state=0)</pre></div></div></div><div class=\"sk-serial\"><div class=\"sk-item\"><div class=\"sk-estimator sk-toggleable\"><input class=\"sk-toggleable__control sk-hidden--visually\" id=\"sk-estimator-id-3\" type=\"checkbox\" ><label for=\"sk-estimator-id-3\" class=\"sk-toggleable__label sk-toggleable__label-arrow\">RandomForestClassifier</label><div class=\"sk-toggleable__content\"><pre>RandomForestClassifier(random_state=0)</pre></div></div></div></div></div></div></div></div></div></div>"
      ],
      "text/plain": [
       "GridSearchCV(cv=5, estimator=RandomForestClassifier(random_state=0),\n",
       "             param_grid={'max_depth': [5, 7, 15, None],\n",
       "                         'max_features': [0.25, 0.5, 0.75, 1],\n",
       "                         'max_samples': [0.7], 'min_samples_leaf': [1, 2, 3],\n",
       "                         'min_samples_split': [1, 2, 3],\n",
       "                         'n_estimators': [50, 75, 100, 200]},\n",
       "             refit='recall', scoring={'accuracy', 'precision', 'f1', 'recall'})"
      ]
     },
     "execution_count": 96,
     "metadata": {},
     "output_type": "execute_result"
    }
   ],
   "source": [
    "%%time\n",
    "rf_cv.fit(X_train,y_train)"
   ]
  },
  {
   "cell_type": "code",
   "execution_count": 101,
   "metadata": {
    "id": "ZG3B_POzPh1s"
   },
   "outputs": [
    {
     "data": {
      "text/plain": [
       "1.0"
      ]
     },
     "execution_count": 101,
     "metadata": {},
     "output_type": "execute_result"
    }
   ],
   "source": [
    "# Examine best recall score\n",
    "rf_cv.best_score_\n"
   ]
  },
  {
   "cell_type": "code",
   "execution_count": 119,
   "metadata": {
    "id": "aupWHyY0PlBz"
   },
   "outputs": [
    {
     "data": {
      "text/plain": [
       "mean_fit_time                                                       1.002482\n",
       "std_fit_time                                                        0.008006\n",
       "mean_score_time                                                     0.030006\n",
       "std_score_time                                                      0.000288\n",
       "param_max_depth                                                            7\n",
       "param_max_features                                                      0.75\n",
       "param_max_samples                                                        0.7\n",
       "param_min_samples_leaf                                                     2\n",
       "param_min_samples_split                                                    2\n",
       "param_n_estimators                                                       100\n",
       "params                     {'max_depth': 7, 'max_features': 0.75, 'max_sa...\n",
       "split0_test_accuracy                                                0.996943\n",
       "split1_test_accuracy                                                0.995197\n",
       "split2_test_accuracy                                                0.995197\n",
       "split3_test_accuracy                                                0.996943\n",
       "split4_test_accuracy                                                0.991703\n",
       "mean_test_accuracy                                                  0.995197\n",
       "std_test_accuracy                                                   0.001913\n",
       "rank_test_accuracy                                                         1\n",
       "split0_test_precision                                               0.995595\n",
       "split1_test_precision                                               0.990368\n",
       "split2_test_precision                                               0.990368\n",
       "split3_test_precision                                               0.993849\n",
       "split4_test_precision                                               0.984321\n",
       "mean_test_precision                                                   0.9909\n",
       "std_test_precision                                                  0.003862\n",
       "rank_test_precision                                                        1\n",
       "split0_test_f1                                                      0.996912\n",
       "split1_test_f1                                                      0.995161\n",
       "split2_test_f1                                                      0.995161\n",
       "split3_test_f1                                                      0.996915\n",
       "split4_test_f1                                                      0.991663\n",
       "mean_test_f1                                                        0.995162\n",
       "std_test_f1                                                         0.001917\n",
       "rank_test_f1                                                               1\n",
       "split0_test_recall                                                  0.998233\n",
       "split1_test_recall                                                       1.0\n",
       "split2_test_recall                                                       1.0\n",
       "split3_test_recall                                                       1.0\n",
       "split4_test_recall                                                  0.999116\n",
       "mean_test_recall                                                     0.99947\n",
       "std_test_recall                                                     0.000707\n",
       "rank_test_recall                                                         138\n",
       "Name: 234, dtype: object"
      ]
     },
     "execution_count": 119,
     "metadata": {},
     "output_type": "execute_result"
    }
   ],
   "source": [
    "  # Get all the results from the CV and put them in a df\n",
    "cv_results = pd.DataFrame(rf_cv.cv_results_)\n",
    "\n",
    "# Isolate the row of the df with the max(mean f1 score).\n",
    "best_estimator_results_rf = cv_results.iloc[cv_results['mean_test_f1'].idxmax(), :]\n",
    "best_estimator_results_rf"
   ]
  },
  {
   "cell_type": "code",
   "execution_count": 103,
   "metadata": {
    "id": "-qzIDhk-Pq62"
   },
   "outputs": [
    {
     "data": {
      "text/plain": [
       "{'max_depth': 5,\n",
       " 'max_features': 1,\n",
       " 'max_samples': 0.7,\n",
       " 'min_samples_leaf': 1,\n",
       " 'min_samples_split': 2,\n",
       " 'n_estimators': 200}"
      ]
     },
     "execution_count": 103,
     "metadata": {},
     "output_type": "execute_result"
    }
   ],
   "source": [
    "# Examine best parameters\n",
    "rf_cv.best_params_\n"
   ]
  },
  {
   "cell_type": "markdown",
   "metadata": {
    "id": "Sk2udvx9v3wt"
   },
   "source": [
    "**Question:** How well is your model performing? Consider average recall score and precision score.\n",
    "The model's performance is truly remarkable, with an average recall score of 0.99947 and an average precision score of 0.9909. These scores signify an exceptional level of accuracy and precision in its predictions.\n",
    "\n",
    "A recall score of 0.99947 suggests that the model excels at identifying positive instances, making very few mistakes when it comes to recognizing actual cases of interest. In other words, it exhibits an extremely low rate of false negatives, ensuring that nearly all true positive cases are correctly identified.\n",
    "\n",
    "Additionally, the precision score of 0.9909 indicates that when the model does classify an instance as positive, it is correct almost 99.09% of the time. This exceptional precision ensures that the model maintains an impressively low rate of false positives, meaning that the instances it classifies as positive are overwhelmingly accurate.\n",
    "\n",
    "These high scores would typically be a strong indicator of a well-trained and highly effective model. However, it's important to consider the context and the specific requirements of your application. In some domains, achieving such high scores may be considered nearly perfect, whereas in others, even a tiny margin of error might have significant consequences.\n",
    "\n",
    "Moreover, it's crucial to examine other aspects of model performance, such as the dataset's size, balance, and the potential presence of class imbalance. Taking these factors into account, you can comprehensively evaluate whether the model's performance aligns with your specific criteria for success.\n",
    "\n",
    "Overall, the model's outstanding recall and precision scores reflect its exceptional ability to correctly classify and distinguish instances, and it certainly deserves recognition for its impressive performance."
   ]
  },
  {
   "cell_type": "markdown",
   "metadata": {
    "id": "JbdcI-94QNYL"
   },
   "source": [
    "### **Build an XGBoost model**"
   ]
  },
  {
   "cell_type": "code",
   "execution_count": 109,
   "metadata": {
    "id": "A8vLZ_x_QPpF"
   },
   "outputs": [],
   "source": [
    "# Instantiate the XGBoost classifier\n",
    "xgb = XGBClassifier(objective='binary:logistic', random_state=0)\n",
    "\n",
    "# Create a dictionary of hyperparameters to tune\n",
    "cv_params = {'max_depth': [4,8,12,16],\n",
    "             'min_child_weight': [3, 5],\n",
    "             'learning_rate': [0.01, 0.1],\n",
    "             'n_estimators': [100,300, 500]\n",
    "             }\n",
    "\n",
    "# Define a dictionary of scoring metrics to capture\n",
    "scoring = {'accuracy', 'precision', 'recall', 'f1'}\n",
    "\n",
    "# Instantiate the GridSearchCV object\n",
    "xgb_cv = GridSearchCV(xgb, cv_params, scoring=scoring, cv=5, refit='recall')"
   ]
  },
  {
   "cell_type": "code",
   "execution_count": 110,
   "metadata": {},
   "outputs": [
    {
     "name": "stdout",
     "output_type": "stream",
     "text": [
      "CPU times: user 10min 15s, sys: 3.28 s, total: 10min 19s\n",
      "Wall time: 5min 15s\n"
     ]
    },
    {
     "data": {
      "text/html": [
       "<style>#sk-container-id-2 {color: black;background-color: white;}#sk-container-id-2 pre{padding: 0;}#sk-container-id-2 div.sk-toggleable {background-color: white;}#sk-container-id-2 label.sk-toggleable__label {cursor: pointer;display: block;width: 100%;margin-bottom: 0;padding: 0.3em;box-sizing: border-box;text-align: center;}#sk-container-id-2 label.sk-toggleable__label-arrow:before {content: \"▸\";float: left;margin-right: 0.25em;color: #696969;}#sk-container-id-2 label.sk-toggleable__label-arrow:hover:before {color: black;}#sk-container-id-2 div.sk-estimator:hover label.sk-toggleable__label-arrow:before {color: black;}#sk-container-id-2 div.sk-toggleable__content {max-height: 0;max-width: 0;overflow: hidden;text-align: left;background-color: #f0f8ff;}#sk-container-id-2 div.sk-toggleable__content pre {margin: 0.2em;color: black;border-radius: 0.25em;background-color: #f0f8ff;}#sk-container-id-2 input.sk-toggleable__control:checked~div.sk-toggleable__content {max-height: 200px;max-width: 100%;overflow: auto;}#sk-container-id-2 input.sk-toggleable__control:checked~label.sk-toggleable__label-arrow:before {content: \"▾\";}#sk-container-id-2 div.sk-estimator input.sk-toggleable__control:checked~label.sk-toggleable__label {background-color: #d4ebff;}#sk-container-id-2 div.sk-label input.sk-toggleable__control:checked~label.sk-toggleable__label {background-color: #d4ebff;}#sk-container-id-2 input.sk-hidden--visually {border: 0;clip: rect(1px 1px 1px 1px);clip: rect(1px, 1px, 1px, 1px);height: 1px;margin: -1px;overflow: hidden;padding: 0;position: absolute;width: 1px;}#sk-container-id-2 div.sk-estimator {font-family: monospace;background-color: #f0f8ff;border: 1px dotted black;border-radius: 0.25em;box-sizing: border-box;margin-bottom: 0.5em;}#sk-container-id-2 div.sk-estimator:hover {background-color: #d4ebff;}#sk-container-id-2 div.sk-parallel-item::after {content: \"\";width: 100%;border-bottom: 1px solid gray;flex-grow: 1;}#sk-container-id-2 div.sk-label:hover label.sk-toggleable__label {background-color: #d4ebff;}#sk-container-id-2 div.sk-serial::before {content: \"\";position: absolute;border-left: 1px solid gray;box-sizing: border-box;top: 0;bottom: 0;left: 50%;z-index: 0;}#sk-container-id-2 div.sk-serial {display: flex;flex-direction: column;align-items: center;background-color: white;padding-right: 0.2em;padding-left: 0.2em;position: relative;}#sk-container-id-2 div.sk-item {position: relative;z-index: 1;}#sk-container-id-2 div.sk-parallel {display: flex;align-items: stretch;justify-content: center;background-color: white;position: relative;}#sk-container-id-2 div.sk-item::before, #sk-container-id-2 div.sk-parallel-item::before {content: \"\";position: absolute;border-left: 1px solid gray;box-sizing: border-box;top: 0;bottom: 0;left: 50%;z-index: -1;}#sk-container-id-2 div.sk-parallel-item {display: flex;flex-direction: column;z-index: 1;position: relative;background-color: white;}#sk-container-id-2 div.sk-parallel-item:first-child::after {align-self: flex-end;width: 50%;}#sk-container-id-2 div.sk-parallel-item:last-child::after {align-self: flex-start;width: 50%;}#sk-container-id-2 div.sk-parallel-item:only-child::after {width: 0;}#sk-container-id-2 div.sk-dashed-wrapped {border: 1px dashed gray;margin: 0 0.4em 0.5em 0.4em;box-sizing: border-box;padding-bottom: 0.4em;background-color: white;}#sk-container-id-2 div.sk-label label {font-family: monospace;font-weight: bold;display: inline-block;line-height: 1.2em;}#sk-container-id-2 div.sk-label-container {text-align: center;}#sk-container-id-2 div.sk-container {/* jupyter's `normalize.less` sets `[hidden] { display: none; }` but bootstrap.min.css set `[hidden] { display: none !important; }` so we also need the `!important` here to be able to override the default hidden behavior on the sphinx rendered scikit-learn.org. See: https://github.com/scikit-learn/scikit-learn/issues/21755 */display: inline-block !important;position: relative;}#sk-container-id-2 div.sk-text-repr-fallback {display: none;}</style><div id=\"sk-container-id-2\" class=\"sk-top-container\"><div class=\"sk-text-repr-fallback\"><pre>GridSearchCV(cv=5,\n",
       "             estimator=XGBClassifier(base_score=None, booster=None,\n",
       "                                     callbacks=None, colsample_bylevel=None,\n",
       "                                     colsample_bynode=None,\n",
       "                                     colsample_bytree=None,\n",
       "                                     early_stopping_rounds=None,\n",
       "                                     enable_categorical=False, eval_metric=None,\n",
       "                                     feature_types=None, gamma=None,\n",
       "                                     gpu_id=None, grow_policy=None,\n",
       "                                     importance_type=None,\n",
       "                                     interaction_constraints=None,\n",
       "                                     learning_rate=None,...\n",
       "                                     max_delta_step=None, max_depth=None,\n",
       "                                     max_leaves=None, min_child_weight=None,\n",
       "                                     missing=nan, monotone_constraints=None,\n",
       "                                     n_estimators=100, n_jobs=None,\n",
       "                                     num_parallel_tree=None, predictor=None,\n",
       "                                     random_state=0, ...),\n",
       "             param_grid={&#x27;learning_rate&#x27;: [0.01, 0.1],\n",
       "                         &#x27;max_depth&#x27;: [4, 8, 12, 16],\n",
       "                         &#x27;min_child_weight&#x27;: [3, 5],\n",
       "                         &#x27;n_estimators&#x27;: [100, 300, 500]},\n",
       "             refit=&#x27;recall&#x27;, scoring={&#x27;accuracy&#x27;, &#x27;precision&#x27;, &#x27;f1&#x27;, &#x27;recall&#x27;})</pre><b>In a Jupyter environment, please rerun this cell to show the HTML representation or trust the notebook. <br />On GitHub, the HTML representation is unable to render, please try loading this page with nbviewer.org.</b></div><div class=\"sk-container\" hidden><div class=\"sk-item sk-dashed-wrapped\"><div class=\"sk-label-container\"><div class=\"sk-label sk-toggleable\"><input class=\"sk-toggleable__control sk-hidden--visually\" id=\"sk-estimator-id-4\" type=\"checkbox\" ><label for=\"sk-estimator-id-4\" class=\"sk-toggleable__label sk-toggleable__label-arrow\">GridSearchCV</label><div class=\"sk-toggleable__content\"><pre>GridSearchCV(cv=5,\n",
       "             estimator=XGBClassifier(base_score=None, booster=None,\n",
       "                                     callbacks=None, colsample_bylevel=None,\n",
       "                                     colsample_bynode=None,\n",
       "                                     colsample_bytree=None,\n",
       "                                     early_stopping_rounds=None,\n",
       "                                     enable_categorical=False, eval_metric=None,\n",
       "                                     feature_types=None, gamma=None,\n",
       "                                     gpu_id=None, grow_policy=None,\n",
       "                                     importance_type=None,\n",
       "                                     interaction_constraints=None,\n",
       "                                     learning_rate=None,...\n",
       "                                     max_delta_step=None, max_depth=None,\n",
       "                                     max_leaves=None, min_child_weight=None,\n",
       "                                     missing=nan, monotone_constraints=None,\n",
       "                                     n_estimators=100, n_jobs=None,\n",
       "                                     num_parallel_tree=None, predictor=None,\n",
       "                                     random_state=0, ...),\n",
       "             param_grid={&#x27;learning_rate&#x27;: [0.01, 0.1],\n",
       "                         &#x27;max_depth&#x27;: [4, 8, 12, 16],\n",
       "                         &#x27;min_child_weight&#x27;: [3, 5],\n",
       "                         &#x27;n_estimators&#x27;: [100, 300, 500]},\n",
       "             refit=&#x27;recall&#x27;, scoring={&#x27;accuracy&#x27;, &#x27;precision&#x27;, &#x27;f1&#x27;, &#x27;recall&#x27;})</pre></div></div></div><div class=\"sk-parallel\"><div class=\"sk-parallel-item\"><div class=\"sk-item\"><div class=\"sk-label-container\"><div class=\"sk-label sk-toggleable\"><input class=\"sk-toggleable__control sk-hidden--visually\" id=\"sk-estimator-id-5\" type=\"checkbox\" ><label for=\"sk-estimator-id-5\" class=\"sk-toggleable__label sk-toggleable__label-arrow\">estimator: XGBClassifier</label><div class=\"sk-toggleable__content\"><pre>XGBClassifier(base_score=None, booster=None, callbacks=None,\n",
       "              colsample_bylevel=None, colsample_bynode=None,\n",
       "              colsample_bytree=None, early_stopping_rounds=None,\n",
       "              enable_categorical=False, eval_metric=None, feature_types=None,\n",
       "              gamma=None, gpu_id=None, grow_policy=None, importance_type=None,\n",
       "              interaction_constraints=None, learning_rate=None, max_bin=None,\n",
       "              max_cat_threshold=None, max_cat_to_onehot=None,\n",
       "              max_delta_step=None, max_depth=None, max_leaves=None,\n",
       "              min_child_weight=None, missing=nan, monotone_constraints=None,\n",
       "              n_estimators=100, n_jobs=None, num_parallel_tree=None,\n",
       "              predictor=None, random_state=0, ...)</pre></div></div></div><div class=\"sk-serial\"><div class=\"sk-item\"><div class=\"sk-estimator sk-toggleable\"><input class=\"sk-toggleable__control sk-hidden--visually\" id=\"sk-estimator-id-6\" type=\"checkbox\" ><label for=\"sk-estimator-id-6\" class=\"sk-toggleable__label sk-toggleable__label-arrow\">XGBClassifier</label><div class=\"sk-toggleable__content\"><pre>XGBClassifier(base_score=None, booster=None, callbacks=None,\n",
       "              colsample_bylevel=None, colsample_bynode=None,\n",
       "              colsample_bytree=None, early_stopping_rounds=None,\n",
       "              enable_categorical=False, eval_metric=None, feature_types=None,\n",
       "              gamma=None, gpu_id=None, grow_policy=None, importance_type=None,\n",
       "              interaction_constraints=None, learning_rate=None, max_bin=None,\n",
       "              max_cat_threshold=None, max_cat_to_onehot=None,\n",
       "              max_delta_step=None, max_depth=None, max_leaves=None,\n",
       "              min_child_weight=None, missing=nan, monotone_constraints=None,\n",
       "              n_estimators=100, n_jobs=None, num_parallel_tree=None,\n",
       "              predictor=None, random_state=0, ...)</pre></div></div></div></div></div></div></div></div></div></div>"
      ],
      "text/plain": [
       "GridSearchCV(cv=5,\n",
       "             estimator=XGBClassifier(base_score=None, booster=None,\n",
       "                                     callbacks=None, colsample_bylevel=None,\n",
       "                                     colsample_bynode=None,\n",
       "                                     colsample_bytree=None,\n",
       "                                     early_stopping_rounds=None,\n",
       "                                     enable_categorical=False, eval_metric=None,\n",
       "                                     feature_types=None, gamma=None,\n",
       "                                     gpu_id=None, grow_policy=None,\n",
       "                                     importance_type=None,\n",
       "                                     interaction_constraints=None,\n",
       "                                     learning_rate=None,...\n",
       "                                     max_delta_step=None, max_depth=None,\n",
       "                                     max_leaves=None, min_child_weight=None,\n",
       "                                     missing=nan, monotone_constraints=None,\n",
       "                                     n_estimators=100, n_jobs=None,\n",
       "                                     num_parallel_tree=None, predictor=None,\n",
       "                                     random_state=0, ...),\n",
       "             param_grid={'learning_rate': [0.01, 0.1],\n",
       "                         'max_depth': [4, 8, 12, 16],\n",
       "                         'min_child_weight': [3, 5],\n",
       "                         'n_estimators': [100, 300, 500]},\n",
       "             refit='recall', scoring={'accuracy', 'precision', 'f1', 'recall'})"
      ]
     },
     "execution_count": 110,
     "metadata": {},
     "output_type": "execute_result"
    }
   ],
   "source": [
    "%%time\n",
    "xgb_cv.fit(X_train,y_train)"
   ]
  },
  {
   "cell_type": "code",
   "execution_count": 116,
   "metadata": {},
   "outputs": [
    {
     "data": {
      "text/plain": [
       "1.0"
      ]
     },
     "execution_count": 116,
     "metadata": {},
     "output_type": "execute_result"
    }
   ],
   "source": [
    "xgb_cv.best_score_"
   ]
  },
  {
   "cell_type": "code",
   "execution_count": 117,
   "metadata": {},
   "outputs": [
    {
     "data": {
      "text/plain": [
       "{'learning_rate': 0.01,\n",
       " 'max_depth': 4,\n",
       " 'min_child_weight': 3,\n",
       " 'n_estimators': 300}"
      ]
     },
     "execution_count": 117,
     "metadata": {},
     "output_type": "execute_result"
    }
   ],
   "source": [
    "xgb_cv.best_params_"
   ]
  },
  {
   "cell_type": "code",
   "execution_count": 118,
   "metadata": {
    "id": "HKoNNFeMQViD"
   },
   "outputs": [
    {
     "data": {
      "text/plain": [
       "mean_fit_time                                                      2.943426\n",
       "std_fit_time                                                       0.084529\n",
       "mean_score_time                                                    0.017852\n",
       "std_score_time                                                     0.000283\n",
       "param_learning_rate                                                    0.01\n",
       "param_max_depth                                                          12\n",
       "param_min_child_weight                                                    3\n",
       "param_n_estimators                                                      500\n",
       "params                    {'learning_rate': 0.01, 'max_depth': 12, 'min_...\n",
       "split0_test_accuracy                                               0.997817\n",
       "split1_test_accuracy                                               0.994323\n",
       "split2_test_accuracy                                               0.995197\n",
       "split3_test_accuracy                                                0.99607\n",
       "split4_test_accuracy                                                0.99214\n",
       "mean_test_accuracy                                                 0.995109\n",
       "std_test_accuracy                                                  0.001881\n",
       "rank_test_accuracy                                                        1\n",
       "split0_test_precision                                              0.995602\n",
       "split1_test_precision                                              0.988636\n",
       "split2_test_precision                                              0.990368\n",
       "split3_test_precision                                              0.992105\n",
       "split4_test_precision                                              0.984334\n",
       "mean_test_precision                                                0.990209\n",
       "std_test_precision                                                 0.003734\n",
       "rank_test_precision                                                      25\n",
       "split0_test_f1                                                     0.997796\n",
       "split1_test_f1                                                     0.994286\n",
       "split2_test_f1                                                     0.995161\n",
       "split3_test_f1                                                     0.996037\n",
       "split4_test_f1                                                     0.992105\n",
       "mean_test_f1                                                       0.995077\n",
       "std_test_f1                                                        0.001886\n",
       "rank_test_f1                                                              1\n",
       "split0_test_recall                                                      1.0\n",
       "split1_test_recall                                                      1.0\n",
       "split2_test_recall                                                      1.0\n",
       "split3_test_recall                                                      1.0\n",
       "split4_test_recall                                                      1.0\n",
       "mean_test_recall                                                        1.0\n",
       "std_test_recall                                                         0.0\n",
       "rank_test_recall                                                          1\n",
       "Name: 14, dtype: object"
      ]
     },
     "execution_count": 118,
     "metadata": {},
     "output_type": "execute_result"
    }
   ],
   "source": [
    "  # Get all the results from the CV and put them in a df\n",
    "cv_results = pd.DataFrame(xgb_cv.cv_results_)\n",
    "\n",
    "    # Isolate the row of the df with the max(mean f1 score).\n",
    "best_estimator_results_xgb = cv_results.iloc[cv_results['mean_test_f1'].idxmax(), :]\n",
    "best_estimator_results_xgb\n"
   ]
  },
  {
   "cell_type": "markdown",
   "metadata": {
    "id": "XHM9FTmHwHi9"
   },
   "source": [
    "**Question:** How well does your model perform? Consider recall score and precision score.\n",
    "\n",
    "The model's performance remains highly impressive, with a precision score of 0.9902 and a recall score of 1. These results indicate a high degree of accuracy and completeness in its predictions.\n",
    "\n",
    "A recall score of 1 signifies that the model excels at identifying positive instances without any false negatives. In other words, it correctly recognizes all true positive cases and exhibits a perfect recall, leaving no room for missing actual cases of interest.\n",
    "\n",
    "Furthermore, a precision score of 0.9902 suggests that when the model classifies an instance as positive, it is accurate in approximately 99.02% of its predictions. This exceptional precision ensures that the model maintains a very low rate of false positives, implying that the instances it classifies as positive are overwhelmingly accurate.\n",
    "\n",
    "These scores are indicative of a well-trained and highly effective model, which is particularly proficient at minimizing false negatives and maintaining a remarkable level of precision. However, the evaluation of its performance should take into account the specific context and requirements of your application.\n",
    "\n",
    "In summary, the model's outstanding precision and recall scores demonstrate its exceptional ability to make accurate and comprehensive predictions, and it undoubtedly deserves recognition for its impressive performance."
   ]
  },
  {
   "cell_type": "markdown",
   "metadata": {
    "id": "_HGsWfEOeWPm"
   },
   "source": [
    "<img src=\"images/Execute.png\" width=\"100\" height=\"100\" align=left>\n",
    "\n",
    "## **PACE: Execute**\n",
    "Consider the questions in your PACE Strategy Document to reflect on the Execute stage."
   ]
  },
  {
   "cell_type": "markdown",
   "metadata": {
    "id": "GyepBhCTa1Yx"
   },
   "source": [
    "### **Task 7. Evaluate model**\n",
    "\n",
    "Evaluate models against validation criteria."
   ]
  },
  {
   "cell_type": "markdown",
   "metadata": {
    "id": "vlAQZSQrRg9l"
   },
   "source": [
    "#### **Random forest**"
   ]
  },
  {
   "cell_type": "code",
   "execution_count": 120,
   "metadata": {
    "id": "mdTCEa_cRH8f"
   },
   "outputs": [],
   "source": [
    "# Use the random forest \"best estimator\" model to get predictions on the encoded testing set\n",
    "y_pred = rf_cv.best_estimator_.predict(X_val)"
   ]
  },
  {
   "cell_type": "markdown",
   "metadata": {
    "id": "As6nmV9xRLa-"
   },
   "source": [
    "Display the predictions on the encoded testing set."
   ]
  },
  {
   "cell_type": "code",
   "execution_count": 121,
   "metadata": {
    "id": "t8ppFvJXRL13"
   },
   "outputs": [
    {
     "data": {
      "text/plain": [
       "array([0, 1, 0, ..., 0, 0, 0])"
      ]
     },
     "execution_count": 121,
     "metadata": {},
     "output_type": "execute_result"
    }
   ],
   "source": [
    "# Display the predictions on the encoded testing set\n",
    "y_pred"
   ]
  },
  {
   "cell_type": "markdown",
   "metadata": {
    "id": "kR54Eel1RSUk"
   },
   "source": [
    "Display the true labels of the testing set."
   ]
  },
  {
   "cell_type": "code",
   "execution_count": 123,
   "metadata": {
    "id": "7-mCyVmLRSuz"
   },
   "outputs": [
    {
     "data": {
      "text/plain": [
       "5846     0\n",
       "12058    1\n",
       "2975     0\n",
       "8432     0\n",
       "6863     0\n",
       "        ..\n",
       "6036     0\n",
       "6544     0\n",
       "2781     0\n",
       "6426     0\n",
       "4450     0\n",
       "Name: claim_status, Length: 3817, dtype: int64"
      ]
     },
     "execution_count": 123,
     "metadata": {},
     "output_type": "execute_result"
    }
   ],
   "source": [
    "# Display the true labels of the testing set\n",
    "y_val"
   ]
  },
  {
   "cell_type": "markdown",
   "metadata": {
    "id": "rGbqgRDFRVZi"
   },
   "source": [
    "Create a confusion matrix to visualize the results of the classification model."
   ]
  },
  {
   "cell_type": "code",
   "execution_count": 127,
   "metadata": {
    "id": "_YJeJuzvRYPf"
   },
   "outputs": [
    {
     "data": {
      "image/png": "[encoded data removed]",
      "text/plain": [
       "<Figure size 640x480 with 2 Axes>"
      ]
     },
     "metadata": {},
     "output_type": "display_data"
    }
   ],
   "source": [
    "# Create a confusion matrix to visualize the results of the classification model\n",
    "\n",
    "# Compute values for confusion matrix\n",
    "cm = confusion_matrix(y_pred,y_val)\n",
    "\n",
    "# Create display of confusion matrix\n",
    "disp_cm = ConfusionMatrixDisplay(confusion_matrix=cm,display_labels=None)\n",
    "\n",
    "# Plot confusion matrix\n",
    "disp_cm.plot()\n",
    "\n",
    "# Display plot\n",
    "plt.show()"
   ]
  },
  {
   "cell_type": "markdown",
   "metadata": {
    "id": "C2dugw11RiIK"
   },
   "source": [
    "Create a classification report that includes precision, recall, f1-score, and accuracy metrics to evaluate the performance of the model."
   ]
  },
  {
   "cell_type": "code",
   "execution_count": 128,
   "metadata": {
    "id": "kB8e7wfhRrAl"
   },
   "outputs": [
    {
     "name": "stdout",
     "output_type": "stream",
     "text": [
      "              precision    recall  f1-score   support\n",
      "\n",
      "     opinion       1.00      0.97      0.98      1925\n",
      "       claim       0.97      1.00      0.98      1892\n",
      "\n",
      "    accuracy                           0.98      3817\n",
      "   macro avg       0.98      0.98      0.98      3817\n",
      "weighted avg       0.98      0.98      0.98      3817\n",
      "\n"
     ]
    }
   ],
   "source": [
    "# Create a classification report\n",
    "# Create classification report for random forest model\n",
    "target_labels = ['opinion', 'claim']\n",
    "print(classification_report(y_val, y_pred, target_names=target_labels))\n"
   ]
  },
  {
   "cell_type": "markdown",
   "metadata": {
    "id": "4PrZTQEXwrX6"
   },
   "source": [
    "**Question:** What does your classification report show? What does the confusion matrix indicate?\n",
    "The confusion matrix indicates that there were 65 misclassifications. 2 false postives and 63 false negatives."
   ]
  },
  {
   "cell_type": "markdown",
   "metadata": {
    "id": "hc8hASOOR0AU"
   },
   "source": [
    "#### **XGBoost**"
   ]
  },
  {
   "cell_type": "code",
   "execution_count": 129,
   "metadata": {
    "id": "fvNxCHqhR9RM"
   },
   "outputs": [],
   "source": [
    "#Evaluate XGBoost model\n",
    "y_pred = xgb_cv.best_estimator_.predict(X_val)"
   ]
  },
  {
   "cell_type": "code",
   "execution_count": 130,
   "metadata": {
    "id": "O9qpraX-SAjy"
   },
   "outputs": [
    {
     "data": {
      "image/png": "[encoded data removed]",
      "text/plain": [
       "<Figure size 640x480 with 2 Axes>"
      ]
     },
     "metadata": {},
     "output_type": "display_data"
    }
   ],
   "source": [
    "cm = confusion_matrix(y_pred,y_val)\n",
    "\n",
    "# Create display of confusion matrix\n",
    "disp_cm = ConfusionMatrixDisplay(confusion_matrix=cm,display_labels=None)\n",
    "\n",
    "# Plot confusion matrix\n",
    "disp_cm.plot()\n",
    "\n",
    "# Display plot\n",
    "plt.show()\n"
   ]
  },
  {
   "cell_type": "code",
   "execution_count": 131,
   "metadata": {
    "id": "JcVuGMztSHx4"
   },
   "outputs": [
    {
     "name": "stdout",
     "output_type": "stream",
     "text": [
      "              precision    recall  f1-score   support\n",
      "\n",
      "     opinion       1.00      0.99      0.99      1925\n",
      "       claim       0.99      1.00      0.99      1892\n",
      "\n",
      "    accuracy                           0.99      3817\n",
      "   macro avg       0.99      0.99      0.99      3817\n",
      "weighted avg       0.99      0.99      0.99      3817\n",
      "\n"
     ]
    }
   ],
   "source": [
    "# Create a classification report\n",
    "target_labels = ['opinion', 'claim']\n",
    "print(classification_report(y_val, y_pred, target_names=target_labels))\n"
   ]
  },
  {
   "cell_type": "markdown",
   "metadata": {
    "id": "vvP4OljkwX0-"
   },
   "source": [
    "**Question:** Describe your XGBoost model results. How does your XGBoost model compare to your random forest model?\n",
    "\n",
    "The confusion matrix indicates that there were 20 misclassifications. 20 false negatives. The XGBoost model is better than the random forest model. So we choose XGBoost as the champion model."
   ]
  },
  {
   "cell_type": "markdown",
   "metadata": {
    "id": "RhYr1O9jSN7O"
   },
   "source": [
    "### **Use champion model to predict on test data**"
   ]
  },
  {
   "cell_type": "code",
   "execution_count": 132,
   "metadata": {
    "id": "VJj1uNRqSQpG"
   },
   "outputs": [],
   "source": [
    "y_pred = xgb_cv.best_estimator_.predict(X_test)\n"
   ]
  },
  {
   "cell_type": "code",
   "execution_count": 134,
   "metadata": {
    "id": "5lpL5ebDSQ5d"
   },
   "outputs": [
    {
     "data": {
      "image/png": "[encoded data removed]",
      "text/plain": [
       "<Figure size 640x480 with 2 Axes>"
      ]
     },
     "metadata": {},
     "output_type": "display_data"
    }
   ],
   "source": [
    "cm = confusion_matrix(y_pred,y_test)\n",
    "\n",
    "# Create display of confusion matrix\n",
    "disp_cm = ConfusionMatrixDisplay(confusion_matrix=cm,display_labels=None)\n",
    "\n",
    "# Plot confusion matrix\n",
    "disp_cm.plot()\n",
    "plt.title('XGBoost - test set');\n",
    "\n",
    "# Display plot\n",
    "\n",
    "plt.show()\n"
   ]
  },
  {
   "cell_type": "markdown",
   "metadata": {
    "id": "2vpvCa5rSVqR"
   },
   "source": [
    "#### **Feature importances of champion model**\n"
   ]
  },
  {
   "cell_type": "code",
   "execution_count": 135,
   "metadata": {
    "id": "MNtafEjgSYYt"
   },
   "outputs": [
    {
     "data": {
      "text/plain": [
       "<Axes: title={'center': 'Feature importance'}, xlabel='F score', ylabel='Features'>"
      ]
     },
     "execution_count": 135,
     "metadata": {},
     "output_type": "execute_result"
    },
    {
     "data": {
      "image/png": "[encoded data removed]",
      "text/plain": [
       "<Figure size 640x480 with 1 Axes>"
      ]
     },
     "metadata": {},
     "output_type": "display_data"
    }
   ],
   "source": [
    "plot_importance(xgb_cv.best_estimator_)"
   ]
  },
  {
   "cell_type": "markdown",
   "metadata": {
    "id": "w2-2V5tAwxlz"
   },
   "source": [
    "**Question:** Describe your most predictive features. Were your results surprising?\n",
    "It's worth noting that the model's most predictive features all relate to the engagement levels generated by the video. This observation underscores the significance of engagement metrics in determining the video's performance and its impact on the target variable. These features, which appear to be highly influential in the model's predictions, likely include data such as the number of views, likes, comments, and other interactions associated with the video content. Nothing unexpected."
   ]
  },
  {
   "cell_type": "markdown",
   "metadata": {
    "id": "ill21hQ4ej9-"
   },
   "source": [
    "### **Task 8. Conclusion**\n",
    "\n",
    "In this step use the results of the models above to formulate a conclusion. Consider the following questions:\n",
    "\n",
    "1. **Would you recommend using this model? Why or why not?**\n",
    "\n",
    "2. **What was your model doing? Can you explain how it was making predictions?**\n",
    "\n",
    "3. **Are there new features that you can engineer that might improve model performance?**\n",
    "\n",
    "4. **What features would you want to have that would likely improve the performance of your model?**\n",
    "\n",
    "Remember, sometimes your data simply will not be predictive of your chosen target. This is common. Machine learning is a powerful tool, but it is not magic. If your data does not contain predictive signal, even the most complex algorithm will not be able to deliver consistent and accurate predictions. Do not be afraid to draw this conclusion.\n"
   ]
  },
  {
   "cell_type": "markdown",
   "metadata": {
    "id": "BfD0kv7qE3lw"
   },
   "source": [
    "1. Yes, one can recommend this model because it performed well on both the validation and test data. Furthermore, both precision and F1 scores were consistently almost perfect. The model very successfully classified claims and opinions.\n",
    "2. The model's most predictive features all relate to the engagement levels generated by the video. This observation underscores the significance of engagement metrics in determining the video's performance and its impact on the target variable.\n",
    "3. There is no need because the level of performance can't be improved more, it's perfect.\n",
    "4. There is no need of adding new features."
   ]
  },
  {
   "cell_type": "markdown",
   "metadata": {},
   "source": [
    "**Congratulations!** You've completed this lab. However, you may not notice a green check mark next to this item on Coursera's platform. Please continue your progress regardless of the check mark. Just click on the \"save\" icon at the top of this notebook to ensure your work has been logged."
   ]
  }
 ],
 "metadata": {
  "colab": {
   "provenance": [],
   "toc_visible": true
  },
  "kernelspec": {
   "display_name": "Python 3 (ipykernel)",
   "language": "python",
   "name": "python3"
  },
  "language_info": {
   "codemirror_mode": {
    "name": "ipython",
    "version": 3
   },
   "file_extension": ".py",
   "mimetype": "text/x-python",
   "name": "python",
   "nbconvert_exporter": "python",
   "pygments_lexer": "ipython3",
   "version": "3.11.3"
  }
 },
 "nbformat": 4,
 "nbformat_minor": 1
}
